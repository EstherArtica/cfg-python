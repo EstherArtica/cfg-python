{
  "cells": [
    {
      "cell_type": "markdown",
      "metadata": {
        "slideshow": {
          "slide_type": "slide"
        }
      },
      "source": [
        "PyCharm\n- Go to [www.jetbrains.com/pycharm/download/](https://www.jetbrains.com/pycharm/download/)\n- Download **Community** edition\n- Install with default options"
      ]
    },
    {
      "cell_type": "markdown",
      "metadata": {
        "slideshow": {
          "slide_type": "slide"
        }
      },
      "source": [
        "![Code First: Girls](images/logo_large.png)\n\n#### Python Session 1"
      ]
    },
    {
      "cell_type": "markdown",
      "metadata": {
        "slideshow": {
          "slide_type": "slide"
        }
      },
      "source": [
        "Course overview:\n\n1. Data types, variables and operations\n1. Input, functions, loops and conditionals\n1. Flask\n1. APIs\n1. Git and the command-line\n1. Group project and Deploying code\n1. Group project\n1. Group presentations"
      ]
    },
    {
      "cell_type": "markdown",
      "metadata": {
        "slideshow": {
          "slide_type": "slide"
        }
      },
      "source": [
        "Instructors "
      ]
    },
    {
      "cell_type": "markdown",
      "metadata": {
        "slideshow": {
          "slide_type": "slide"
        }
      },
      "source": [
        "This session\n1. Run Python with files and shell\n1. Data types\n1. Maths operations\n1. Variables\n1. User input"
      ]
    },
    {
      "cell_type": "markdown",
      "metadata": {
        "slideshow": {
          "slide_type": "slide"
        }
      },
      "source": [
        "Slides are available at [https://github.com/craigargh/cfg-python](https://github.com/craigargh/cfg-python)"
      ]
    },
    {
      "cell_type": "markdown",
      "metadata": {
        "slideshow": {
          "slide_type": "slide"
        }
      },
      "source": [
        "Python\n1. Designed to be clean and readable\n1. 3rd party libraries\n - Web\n - Data science\n - Machine learning\n1. Popular"
      ]
    },
    {
      "cell_type": "markdown",
      "metadata": {
        "slideshow": {
          "slide_type": "slide"
        }
      },
      "source": [
        "### Your first Python program"
      ]
    },
    {
      "cell_type": "markdown",
      "metadata": {
        "slideshow": {
          "slide_type": "subslide"
        }
      },
      "source": [
        "Create a new project\n\n![create new PyCharm project](gifs/pycharm_new.gif)"
      ]
    },
    {
      "cell_type": "markdown",
      "metadata": {
        "slideshow": {
          "slide_type": "subslide"
        }
      },
      "source": [
        "Create a new file\n\n![create new PyCharm file](gifs/pycharm_new_file.gif)"
      ]
    },
    {
      "cell_type": "markdown",
      "metadata": {
        "slideshow": {
          "slide_type": "subslide"
        }
      },
      "source": [
        "\nAdd this to `hello.py`\n\n"
      ]
    },
    {
      "cell_type": "code",
      "metadata": {},
      "source": [
        "print('Hello, World!')"
      ],
      "execution_count": null,
      "outputs": []
    },
    {
      "cell_type": "markdown",
      "metadata": {},
      "source": [
        "\n\n"
      ]
    },
    {
      "cell_type": "markdown",
      "metadata": {
        "slideshow": {
          "slide_type": "subslide"
        }
      },
      "source": [
        "Run the program:\n\n![run the Python program](gifs/pycharm_run.gif)"
      ]
    },
    {
      "cell_type": "markdown",
      "metadata": {
        "slideshow": {
          "slide_type": "slide"
        }
      },
      "source": [
        "### Numbers and Operators in Python"
      ]
    },
    {
      "cell_type": "markdown",
      "metadata": {
        "slideshow": {
          "slide_type": "subslide"
        }
      },
      "source": [
        "The Python shell\n\n- Each line starts with `>>>`\n- Interactive\n- Immediate output\n- Exploration\n- Can't re-run (use files instead)"
      ]
    },
    {
      "cell_type": "markdown",
      "metadata": {
        "slideshow": {
          "slide_type": "subslide"
        }
      },
      "source": [
        "![open Python shell](gifs/pycharm_python_shell.gif)"
      ]
    },
    {
      "cell_type": "markdown",
      "metadata": {
        "slideshow": {
          "slide_type": "subslide"
        }
      },
      "source": [
        "\n#### Task\n\nType these lines into your **Python shell** (don't type the `>>>`)\n\n"
      ]
    },
    {
      "cell_type": "code",
      "metadata": {},
      "source": [
        ">>> 5 - 6\n>>> 8 * 9\n>>> 6 / 2\n>>> 5 / 2\n>>> 5.0 / 2\n>>> 5 % 2\n>>> 2 * (10 + 3)\n>>> 2 ** 4"
      ],
      "execution_count": null,
      "outputs": []
    },
    {
      "cell_type": "markdown",
      "metadata": {},
      "source": [
        "\nWhat does each one do and what is its output?\n\nAre there any outputs you didn't expect?\n\n"
      ]
    },
    {
      "cell_type": "markdown",
      "metadata": {
        "slideshow": {
          "slide_type": "subslide"
        }
      },
      "source": [
        "Operator types\n* `+`: add\n* `-`: subtract\n* `*`: multiply\n* `/`: division\n* `**`: exponent\n* `%`: modulo (remainder)"
      ]
    },
    {
      "cell_type": "markdown",
      "metadata": {
        "slideshow": {
          "slide_type": "subslide"
        }
      },
      "source": [
        "**Integer:** a Python **data type** for **whole numbers**. For example `5`, `-99` and `1048` are all integers.\n\n**Float:** a Python **data type** for **decimal numbers**. For example `5.6`, `9.0` and `-67.1001` are all floats."
      ]
    },
    {
      "cell_type": "markdown",
      "metadata": {
        "slideshow": {
          "slide_type": "slide"
        }
      },
      "source": [
        "### The String Data Type"
      ]
    },
    {
      "cell_type": "markdown",
      "metadata": {
        "slideshow": {
          "slide_type": "subslide"
        }
      },
      "source": [
        "**String:** a Python data type for **text** and **characters**.\n\n`'Hello'`, `\"abcdef1234\"` and `'cats'` are all strings"
      ]
    },
    {
      "cell_type": "markdown",
      "metadata": {
        "slideshow": {
          "slide_type": "subslide"
        }
      },
      "source": [
        "\nStrings must be written between a pair of single or double speech marks\n\n `'...'` or `\"...\"`\n\n\n"
      ]
    },
    {
      "cell_type": "code",
      "metadata": {},
      "source": [
        "\"This is a string\"\n'This is also a string'"
      ],
      "execution_count": null,
      "outputs": []
    },
    {
      "cell_type": "markdown",
      "metadata": {},
      "source": [
        "\n"
      ]
    },
    {
      "cell_type": "markdown",
      "metadata": {
        "slideshow": {
          "slide_type": "subslide"
        }
      },
      "source": [
        "Forgetting the speech marks\n\n"
      ]
    },
    {
      "cell_type": "code",
      "metadata": {},
      "source": [
        ">>> hello"
      ],
      "execution_count": null,
      "outputs": []
    },
    {
      "cell_type": "markdown",
      "metadata": {},
      "source": [
        "\nWill cause this exception\n\n```\nTraceback (most recent call last):\n  File \"<stdin>\", line 1, in <module>\nNameError: name 'hello' is not defined\n```\n\n"
      ]
    },
    {
      "cell_type": "markdown",
      "metadata": {
        "slideshow": {
          "slide_type": "subslide"
        }
      },
      "source": [
        "To fix it add speech marks\n\n\n"
      ]
    },
    {
      "cell_type": "code",
      "metadata": {},
      "source": [
        ">>> \"hello\""
      ],
      "execution_count": null,
      "outputs": []
    },
    {
      "cell_type": "markdown",
      "metadata": {},
      "source": [
        "\nNow outputs\n\n```\n'hello'\n```\n\n"
      ]
    },
    {
      "cell_type": "markdown",
      "metadata": {
        "slideshow": {
          "slide_type": "subslide"
        }
      },
      "source": [
        "#### Task\n\nIn your **Python shell** type each of these\n\n"
      ]
    },
    {
      "cell_type": "code",
      "metadata": {},
      "source": [
        "print(\"Cat\")\nprint(\"Cat\" + \" videos\")\n\nprint(\"Cat\" * 3)\nprint(\"Cat\" + 3)\n\nprint(\"Cat\".upper())\nprint(\"Cat\".lower())\n\nprint(\"the lord of the rings\".title())"
      ],
      "execution_count": null,
      "outputs": []
    },
    {
      "cell_type": "markdown",
      "metadata": {},
      "source": [
        "\nWhat is the output for each one and why?\n\nOne of them causes an exception. Read the exception message. What do you think it means?\n\n"
      ]
    },
    {
      "cell_type": "markdown",
      "metadata": {
        "slideshow": {
          "slide_type": "subslide"
        }
      },
      "source": [
        "1. The `+` operator can join two strings together, this is called **concatenation**\n\n1. The `*` operator repeats a string a number of times\n\n1. `.upper()`, `.lower()` and `.title()` are **methods**. They perform a specific action on the string e.g. uppercasing the characters"
      ]
    },
    {
      "cell_type": "markdown",
      "metadata": {
        "slideshow": {
          "slide_type": "subslide"
        }
      },
      "source": [
        "\nThis exception is caused when trying to join a string value with an integer value\n\n"
      ]
    },
    {
      "cell_type": "code",
      "metadata": {},
      "source": [
        ">>> print(\"Cat\" + 3)\n\nTraceback (most recent call last):\n  File \"<stdin>\", line 1, in <module>\nTypeError: cannot concatenate 'str' and 'int' objects"
      ],
      "execution_count": null,
      "outputs": []
    },
    {
      "cell_type": "markdown",
      "metadata": {},
      "source": [
        "\n"
      ]
    },
    {
      "cell_type": "markdown",
      "metadata": {
        "slideshow": {
          "slide_type": "subslide"
        }
      },
      "source": [
        "\nPutting a number in `str()` converts it to a string\n\n"
      ]
    },
    {
      "cell_type": "code",
      "metadata": {},
      "source": [
        ">>> print(\"Cat\" + str(3))\nCat3"
      ],
      "execution_count": null,
      "outputs": []
    },
    {
      "cell_type": "markdown",
      "metadata": {},
      "source": [
        "\n"
      ]
    },
    {
      "cell_type": "markdown",
      "metadata": {
        "slideshow": {
          "slide_type": "slide"
        }
      },
      "source": [
        "### Variables"
      ]
    },
    {
      "cell_type": "markdown",
      "metadata": {
        "slideshow": {
          "slide_type": "subslide"
        }
      },
      "source": [
        "**Variable:** a reusable **label** for a piece of data in Python"
      ]
    },
    {
      "cell_type": "markdown",
      "metadata": {
        "slideshow": {
          "slide_type": "subslide"
        }
      },
      "source": [
        "\nCreating (assigning) a variable has three parts:\n1. The variable's name\n1. An equals sign `=`\n1. The data value it references\n\n"
      ]
    },
    {
      "cell_type": "code",
      "metadata": {},
      "source": [
        "username = 'l33t_cat'\nage = 23"
      ],
      "execution_count": null,
      "outputs": []
    },
    {
      "cell_type": "markdown",
      "metadata": {},
      "source": [
        "\n"
      ]
    },
    {
      "cell_type": "markdown",
      "metadata": {
        "slideshow": {
          "slide_type": "subslide"
        }
      },
      "source": [
        "\nA variable can be put anywhere that a data value can be used\n\n"
      ]
    },
    {
      "cell_type": "code",
      "metadata": {},
      "source": [
        "username = 'l33t_cat'\n\nprint(username)"
      ],
      "execution_count": null,
      "outputs": []
    },
    {
      "cell_type": "markdown",
      "metadata": {},
      "source": [
        "\n"
      ]
    },
    {
      "cell_type": "markdown",
      "metadata": {
        "slideshow": {
          "slide_type": "subslide"
        }
      },
      "source": [
        "\nVariables can be reused\n\n"
      ]
    },
    {
      "cell_type": "code",
      "metadata": {},
      "source": [
        "oranges = 12\ncost_per_orange = 0.3\n\ntotal_cost = oranges * cost_per_orange\n\nprint(str(oranges) + \" oranges\")\nprint(\"costs \" + str(total_cost))"
      ],
      "execution_count": null,
      "outputs": []
    },
    {
      "cell_type": "markdown",
      "metadata": {},
      "source": [
        "\nOutputs\n\n```\n12 oranges\ncosts 3.6\n```\n\n\n"
      ]
    },
    {
      "cell_type": "markdown",
      "metadata": {
        "slideshow": {
          "slide_type": "subslide"
        }
      },
      "source": [
        "**Task**: In a new Python **file** called `cat_food.py`, create a program that calculates how many cans of cat food you need to feed 10 cats\n\nYour will need:\n1. A **variable** for the number of **cats**\n1. A **variable** for the number of **cans** each cat eats in a day\n1. A `print()` function to output the result\n\n**Extension:** change the calculation to work out the amount needed for 7 days"
      ]
    },
    {
      "cell_type": "markdown",
      "metadata": {
        "slideshow": {
          "slide_type": "subslide"
        }
      },
      "source": [
        "\nAn example answer:\n\n"
      ]
    },
    {
      "cell_type": "code",
      "metadata": {},
      "source": [
        "cats = 10\ncans = 2\n\ntotal_cans = cats * cans\n\noutput = str(cats) + \" cats eat \" + str(total_cans) + \" cans\"\nprint(output)"
      ],
      "execution_count": null,
      "outputs": []
    },
    {
      "cell_type": "markdown",
      "metadata": {},
      "source": [
        "\n\n"
      ]
    },
    {
      "cell_type": "markdown",
      "metadata": {
        "slideshow": {
          "slide_type": "subslide"
        }
      },
      "source": [
        "\nExtension answer:\n\n"
      ]
    },
    {
      "cell_type": "code",
      "metadata": {},
      "source": [
        "cats = 10\ncans = 2\ndays = 7\n\ntotal_cans = cats * cans * days\n\nmsg = str(cats) + \" cats eat \" + str(total_cans) + \" cans in \" + str(days) + \" days\"\nprint(msg)"
      ],
      "execution_count": null,
      "outputs": []
    },
    {
      "cell_type": "markdown",
      "metadata": {},
      "source": [
        "\n\n"
      ]
    },
    {
      "cell_type": "markdown",
      "metadata": {
        "slideshow": {
          "slide_type": "slide"
        }
      },
      "source": [
        "### String Formatting"
      ]
    },
    {
      "cell_type": "markdown",
      "metadata": {
        "slideshow": {
          "slide_type": "subslide"
        }
      },
      "source": [
        "\nPython strings have a method (`.format()`) that substitutes placeholders `{}` for values\n\n"
      ]
    },
    {
      "cell_type": "code",
      "metadata": {},
      "source": [
        "oranges = 12\ncost_per_orange = 0.3\n\ntotal_cost = oranges * cost_per_orange\n\noutput = \"{} oranges costs \u00a3{}\".format(oranges, total_cost)\n\nprint(output)"
      ],
      "execution_count": null,
      "outputs": []
    },
    {
      "cell_type": "markdown",
      "metadata": {},
      "source": [
        "\n\n"
      ]
    },
    {
      "cell_type": "markdown",
      "metadata": {
        "slideshow": {
          "slide_type": "subslide"
        }
      },
      "source": [
        "\nThis could have been written as\n"
      ]
    },
    {
      "cell_type": "code",
      "metadata": {},
      "source": [
        "oranges = 12\ncost_per_orange = 0.3\n\ntotal_cost = oranges * cost_per_orange\n\noutput = str(oranges) + \" oranges costs \u00a3\" + str(total_cost)\n\nprint(output)"
      ],
      "execution_count": null,
      "outputs": []
    },
    {
      "cell_type": "markdown",
      "metadata": {},
      "source": [
        "\n"
      ]
    },
    {
      "cell_type": "markdown",
      "metadata": {
        "slideshow": {
          "slide_type": "subslide"
        }
      },
      "source": [
        "\n#### Task:\nRewrite `cat_food.py` to use string formatting instead of joining strings with `+`.\n\nAn example of string formatting:\n```\nuser_name = 'l33t_cat'\nage = 23\n\noutput = '{} is {} years old'.format(user_name, age)\nprint(output)\n```\n\n"
      ]
    },
    {
      "cell_type": "markdown",
      "metadata": {
        "slideshow": {
          "slide_type": "subslide"
        }
      },
      "source": [
        "\nAnswer:\n\n"
      ]
    },
    {
      "cell_type": "code",
      "metadata": {},
      "source": [
        "cats = 10\ncans = 2\n\ntotal_cans = cats * cans\n\noutput = \"{} cats eat {} cans\".format(cats, total_cans)\nprint(output)"
      ],
      "execution_count": null,
      "outputs": []
    },
    {
      "cell_type": "markdown",
      "metadata": {},
      "source": [
        "\n\n"
      ]
    },
    {
      "cell_type": "markdown",
      "metadata": {
        "slideshow": {
          "slide_type": "slide"
        }
      },
      "source": [
        "### User Input"
      ]
    },
    {
      "cell_type": "markdown",
      "metadata": {
        "slideshow": {
          "slide_type": "subslide"
        }
      },
      "source": [
        "\nIn a new file called `my_name.py`\n\n"
      ]
    },
    {
      "cell_type": "code",
      "metadata": {},
      "source": [
        "name = input('What is you name? ')\nprint('Hello, {}'.format(name))"
      ],
      "execution_count": null,
      "outputs": []
    },
    {
      "cell_type": "markdown",
      "metadata": {},
      "source": [
        "\n\n"
      ]
    },
    {
      "cell_type": "markdown",
      "metadata": {
        "slideshow": {
          "slide_type": "subslide"
        }
      },
      "source": [
        "\n``` command-line\nWhat is your name? Anita\nHello, Anita\n```\n\n"
      ]
    },
    {
      "cell_type": "markdown",
      "metadata": {
        "slideshow": {
          "slide_type": "subslide"
        }
      },
      "source": [
        "\nOranges with user input\n\n"
      ]
    },
    {
      "cell_type": "code",
      "metadata": {},
      "source": [
        "oranges_string = input('How many oranges do you want? ')\n\noranges = int(oranges_string)\ncost_per_orange = 0.3\n\ntotal_cost = oranges * cost_per_orange\n\noutput = \"{} oranges costs \u00a3{}\".format(oranges, total_cost)\n\nprint(output)"
      ],
      "execution_count": null,
      "outputs": []
    },
    {
      "cell_type": "markdown",
      "metadata": {},
      "source": [
        "\n\n"
      ]
    },
    {
      "cell_type": "markdown",
      "metadata": {
        "slideshow": {
          "slide_type": "subslide"
        }
      },
      "source": [
        "**Task:** Change `cat_food.py` so that the number of cats can be input when the program is run"
      ]
    },
    {
      "cell_type": "markdown",
      "metadata": {
        "slideshow": {
          "slide_type": "subslide"
        }
      },
      "source": [
        "\nAnswer:\n\n"
      ]
    },
    {
      "cell_type": "code",
      "metadata": {},
      "source": [
        "cats_string = input('How many cats do you need to feed? ')\n\ncats = int(cats_string)\ncans = 2\n\ntotal_cans = cats * cans\n\noutput = \"{} cats eat {} cans\".format(cats, total_cans)\nprint(output)"
      ],
      "execution_count": null,
      "outputs": []
    },
    {
      "cell_type": "markdown",
      "metadata": {},
      "source": [
        "\n\n"
      ]
    },
    {
      "cell_type": "markdown",
      "metadata": {
        "slideshow": {
          "slide_type": "slide"
        }
      },
      "source": [
        "### Comments"
      ]
    },
    {
      "cell_type": "markdown",
      "metadata": {
        "slideshow": {
          "slide_type": "subslide"
        }
      },
      "source": [
        "**Comment:** a way for a programmer to write human-readable notes in their code. When running a program, comments are ignored by Python."
      ]
    },
    {
      "cell_type": "markdown",
      "metadata": {
        "slideshow": {
          "slide_type": "subslide"
        }
      },
      "source": [
        "\nComments in Python start with a `#`\n\n"
      ]
    },
    {
      "cell_type": "code",
      "metadata": {},
      "source": [
        "# A program to calculate the cost of some oranges\n\noranges = 12\ncost_per_orange = 0.3\n\ntotal_cost = oranges * cost_per_orange\n\noutput = \"{} oranges costs \u00a3{}\".format(oranges, total_cost)\n\nprint(output)"
      ],
      "execution_count": null,
      "outputs": []
    },
    {
      "cell_type": "markdown",
      "metadata": {},
      "source": [
        "\n"
      ]
    },
    {
      "cell_type": "markdown",
      "metadata": {
        "slideshow": {
          "slide_type": "slide"
        }
      },
      "source": [
        "### Recap"
      ]
    },
    {
      "cell_type": "markdown",
      "metadata": {
        "slideshow": {
          "slide_type": "subslide"
        }
      },
      "source": [
        "1. Run Python with files and shell\n1. Data types (Integers, Floats and Strings)\n1. Maths operations\n1. Variables\n1. User input"
      ]
    },
    {
      "cell_type": "markdown",
      "metadata": {
        "slideshow": {
          "slide_type": "slide"
        }
      },
      "source": [
        "#### Homework\n\n[https://github.com/craigargh/cfg-python/tree/master/homework/session_1.md](https://github.com/craigargh/cfg-python/tree/master/homework/session_1.md)"
      ]
    }
  ],
  "metadata": {
    "kernelspec": {
      "display_name": "Python 3",
      "language": "python",
      "name": "python3"
    },
    "language_info": {
      "codemirror_mode": {
        "name": "ipython",
        "version": 3
      },
      "file_extension": ".py",
      "mimetype": "text/x-python",
      "name": "python",
      "nbconvert_exporter": "python",
      "pygments_lexer": "ipython3",
      "version": "3.6.7"
    },
    "livereveal": {
      "scroll": true,
      "progress": true,
      "footer": "<img src=\"images/logo.png\" style=\"margin-left: 20px; margin-bottom: 20px;\"/>"
    },
    "rise": {
      "enable_chalkboard": true
    }
  },
  "nbformat": 4,
  "nbformat_minor": 2
}