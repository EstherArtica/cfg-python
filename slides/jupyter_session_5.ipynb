{
  "cells": [
    {
      "cell_type": "markdown",
      "metadata": {
        "slideshow": {
          "slide_type": "slide"
        }
      },
      "source": [
        "Install Git"
      ]
    },
    {
      "cell_type": "markdown",
      "metadata": {
        "slideshow": {
          "slide_type": "slide"
        }
      },
      "source": [
        "![Code First: Girls](images/logo_large.png)\n\n#### Python Session 5"
      ]
    },
    {
      "cell_type": "markdown",
      "metadata": {
        "slideshow": {
          "slide_type": "slide"
        }
      },
      "source": [
        "This session\n1. Git/Source Control\n1. Project planning"
      ]
    },
    {
      "cell_type": "markdown",
      "metadata": {
        "slideshow": {
          "slide_type": "slide"
        }
      },
      "source": [
        "### Git"
      ]
    },
    {
      "cell_type": "markdown",
      "metadata": {
        "slideshow": {
          "slide_type": "subslide"
        }
      },
      "source": [
        "Version/source control is useful when working as part of a team.\n\nGit is the most widely used source control software.\n\nGitHub is a website that allows you to host Git repositories."
      ]
    },
    {
      "cell_type": "markdown",
      "metadata": {
        "slideshow": {
          "slide_type": "subslide"
        }
      },
      "source": [
        "A Git repository stores the versions of your application's code in a single location."
      ]
    },
    {
      "cell_type": "markdown",
      "metadata": {
        "slideshow": {
          "slide_type": "subslide"
        }
      },
      "source": [
        "One person on your team will need to create the repository using their GitHub account"
      ]
    },
    {
      "cell_type": "markdown",
      "metadata": {
        "slideshow": {
          "slide_type": "subslide"
        }
      },
      "source": [
        "Go to [github.com](http://www.github.com) and log in"
      ]
    },
    {
      "cell_type": "markdown",
      "metadata": {
        "slideshow": {
          "slide_type": "subslide"
        }
      },
      "source": [
        "Click on the `Start a Project` button\n\nOR\n\nClick on the `+` icon on the right of the navbar, `New repository`"
      ]
    },
    {
      "cell_type": "markdown",
      "metadata": {
        "slideshow": {
          "slide_type": "subslide"
        }
      },
      "source": [
        "Choose a name for your project and click `Create repository`"
      ]
    },
    {
      "cell_type": "markdown",
      "metadata": {
        "slideshow": {
          "slide_type": "subslide"
        }
      },
      "source": [
        "So that other team members can contribute, you need to add them as Collaborotors\n\nOn the project's repository\n1. Go to the `Settings` tab\n1. Click `Collaborators` on the menu at the left hand side\n1. Enter their username/email address and click `Add collaborator`"
      ]
    },
    {
      "cell_type": "markdown",
      "metadata": {
        "slideshow": {
          "slide_type": "slide"
        }
      },
      "source": [
        "### Git: Commits and Pulling Code"
      ]
    },
    {
      "cell_type": "markdown",
      "metadata": {
        "slideshow": {
          "slide_type": "subslide"
        }
      },
      "source": [
        "Before doing anything else, we need to connect our GitHub account with PyCharm"
      ]
    },
    {
      "cell_type": "markdown",
      "metadata": {
        "slideshow": {
          "slide_type": "subslide"
        }
      },
      "source": [
        "![Github Account](gifs/github_account.gif)"
      ]
    },
    {
      "cell_type": "markdown",
      "metadata": {
        "slideshow": {
          "slide_type": "subslide"
        }
      },
      "source": [
        "You can copy the code from the central respository. This is called **cloning** the repository."
      ]
    },
    {
      "cell_type": "markdown",
      "metadata": {
        "slideshow": {
          "slide_type": "subslide"
        }
      },
      "source": [
        "![Git Clone](gifs/git_clone.gif)"
      ]
    },
    {
      "cell_type": "markdown",
      "metadata": {
        "slideshow": {
          "slide_type": "subslide"
        }
      },
      "source": [
        "The repository keeps track of changes to the code. Each group of changes is called a **commit**.\n\nEach commit has a commit message and a record of the code it changes."
      ]
    },
    {
      "cell_type": "markdown",
      "metadata": {
        "slideshow": {
          "slide_type": "subslide"
        }
      },
      "source": [
        "[An example Commit](https://github.com/craigargh/cfg-python/commit/57ae352f7211b9584369a4caf154d0bc903a70f9)"
      ]
    },
    {
      "cell_type": "markdown",
      "metadata": {
        "slideshow": {
          "slide_type": "subslide"
        }
      },
      "source": [
        "You can make changes to the code on your computer. First you need to add a file to Git.\n\nYou can then **commit** and **push** them from your computer to the central repository."
      ]
    },
    {
      "cell_type": "markdown",
      "metadata": {
        "slideshow": {
          "slide_type": "subslide"
        }
      },
      "source": [
        "![Git Add](gifs/git_add.gif)"
      ]
    },
    {
      "cell_type": "markdown",
      "metadata": {
        "slideshow": {
          "slide_type": "subslide"
        }
      },
      "source": [
        "![Git Commit and Push](gifs/git_commit_push.gif)"
      ]
    },
    {
      "cell_type": "markdown",
      "metadata": {
        "slideshow": {
          "slide_type": "subslide"
        }
      },
      "source": [
        "\nTo avoid commiting certain files (e.g. PyCharm config), you add them to `.gitignore`\n\nCreate a file called `.gitignore` in your project and add this:\n\n```\n.idea/\nvenv/\n```\n"
      ]
    },
    {
      "cell_type": "markdown",
      "metadata": {
        "slideshow": {
          "slide_type": "subslide"
        }
      },
      "source": [
        "**Task:** Create a new text file called `<your_name>.txt`\n\nCommit and push it to the Git repository"
      ]
    },
    {
      "cell_type": "markdown",
      "metadata": {
        "slideshow": {
          "slide_type": "subslide"
        }
      },
      "source": [
        "When there are updates to the code you can **pull** these changes into the copy on your computer."
      ]
    },
    {
      "cell_type": "markdown",
      "metadata": {
        "slideshow": {
          "slide_type": "subslide"
        }
      },
      "source": [
        "![git pull](gifs/git_pull.gif)"
      ]
    },
    {
      "cell_type": "markdown",
      "metadata": {
        "slideshow": {
          "slide_type": "subslide"
        }
      },
      "source": [
        "Sometimes when two people work on the same file separately, there will be incompatible changes.\n\nGit calls this a conflict"
      ]
    },
    {
      "cell_type": "markdown",
      "metadata": {
        "slideshow": {
          "slide_type": "subslide"
        }
      },
      "source": [
        "![Git Conflict](gifs/git_conflict.gif)"
      ]
    },
    {
      "cell_type": "markdown",
      "metadata": {
        "slideshow": {
          "slide_type": "subslide"
        }
      },
      "source": [
        "Really good git resources:\n- https://try.github.io/\n- https://github.com/git-school/workshop-setup\n- https://www.youtube.com/watch?v=BCQHnlnPusY"
      ]
    },
    {
      "cell_type": "markdown",
      "metadata": {
        "slideshow": {
          "slide_type": "slide"
        }
      },
      "source": [
        "### Projects!!!"
      ]
    },
    {
      "cell_type": "markdown",
      "metadata": {
        "slideshow": {
          "slide_type": "subslide"
        }
      },
      "source": [
        "- Groups of 2-3 people\n- Presentations in second half of Session 8\n- Should use Flask\n- APIs/Python libraries"
      ]
    },
    {
      "cell_type": "markdown",
      "metadata": {
        "slideshow": {
          "slide_type": "subslide"
        }
      },
      "source": [
        "How to plan a project:\n- Explain the purpose of your application\n- Make a list of requirements\n- Prioritise your requirements (Must, Should, Could, Won't)\n- Minimum Viable Product (MVP)"
      ]
    }
  ],
  "metadata": {
    "kernelspec": {
      "display_name": "Python 3",
      "language": "python",
      "name": "python3"
    },
    "language_info": {
      "codemirror_mode": {
        "name": "ipython",
        "version": 3
      },
      "file_extension": ".py",
      "mimetype": "text/x-python",
      "name": "python",
      "nbconvert_exporter": "python",
      "pygments_lexer": "ipython3",
      "version": "3.6.7"
    },
    "livereveal": {
      "scroll": true,
      "progress": true,
      "start_slideshow_at": "selected",
      "footer": "<img src=\"images/logo.png\" style=\"margin-left: 20px; margin-bottom: 20px;\"/>"
    },
    "rise": {
      "enable_chalkboard": true
    }
  },
  "nbformat": 4,
  "nbformat_minor": 2
}