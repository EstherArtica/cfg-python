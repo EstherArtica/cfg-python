{
  "cells": [
    {
      "cell_type": "markdown",
      "metadata": {
        "slideshow": {
          "slide_type": "slide"
        }
      },
      "source": [
        "**Starter:** ???"
      ]
    },
    {
      "cell_type": "markdown",
      "metadata": {
        "slideshow": {
          "slide_type": "slide"
        }
      },
      "source": [
        "# Code First: Girls\n\n#### Python Session 3"
      ]
    },
    {
      "cell_type": "markdown",
      "metadata": {
        "slideshow": {
          "slide_type": "subslide"
        }
      },
      "source": [
        "This session:\n1. Logical Operators\n1. If Statements\n1. Functions\n1. Dictionaries"
      ]
    },
    {
      "cell_type": "markdown",
      "metadata": {
        "slideshow": {
          "slide_type": "slide"
        }
      },
      "source": [
        "### Logical Operators"
      ]
    },
    {
      "cell_type": "markdown",
      "metadata": {
        "slideshow": {
          "slide_type": "subslide"
        }
      },
      "source": [
        "**Logical Operators:** used to check if an expression is `True` or `False`"
      ]
    },
    {
      "cell_type": "markdown",
      "metadata": {
        "slideshow": {
          "slide_type": "subslide"
        }
      },
      "source": [
        "\nThis code checks if the user has input `'Monday'` using the `==` operator\n\n"
      ]
    },
    {
      "cell_type": "code",
      "metadata": {},
      "source": [
        "today = input('What day is it? ')\n\nis_monday = today == 'Monday'\n\nprint('Today is Monday: {}'.format(is_monday))"
      ],
      "execution_count": null,
      "outputs": []
    },
    {
      "cell_type": "markdown",
      "metadata": {
        "slideshow": {
          "slide_type": "subslide"
        }
      },
      "source": [
        "Operators in Python\n\nName | Python\n---|---\nEqual to | `==`\nNot equal | `!=`\nGreater than | `>`\nLess than | `<`\nGreater than or equal | `>=`\nLess than or equal | `<=`"
      ]
    },
    {
      "cell_type": "markdown",
      "metadata": {
        "slideshow": {
          "slide_type": "subslide"
        }
      },
      "source": [
        "\nThis code checks if today is not Monday\n"
      ]
    },
    {
      "cell_type": "code",
      "metadata": {},
      "source": [
        "today = input('What day is it? ')\n\nis_not_monday = today != 'Monday'\n\nprint('Today is not Monday: {}'.format(is_not_monday))"
      ],
      "execution_count": null,
      "outputs": []
    },
    {
      "cell_type": "markdown",
      "metadata": {
        "slideshow": {
          "slide_type": "subslide"
        }
      },
      "source": [
        "\n**Task:** You have a budget of \u00a310 and want to write a program to decide which burger restaurant to go to.\n\n1. Input the `price` of a burger using `input()`\n1. Check whether the `price` is less than or equal (`<=`) `10.00`\n1. Print the result in the format below\n\n``` command-line\nBurger is within budget: True\n```\n\n**Hint:** remember to convert the input from a string to a decimal with `float()`\n\n"
      ]
    },
    {
      "cell_type": "markdown",
      "metadata": {
        "slideshow": {
          "slide_type": "subslide"
        }
      },
      "source": [
        "\n\nAnswer\n\n"
      ]
    },
    {
      "cell_type": "code",
      "metadata": {},
      "source": [
        "price = input('How much is a burger? ')\n\nwithin_budget = float(price) <= 10.00\n\nprint('Burger is within budget: {}'.format(within_budget))"
      ],
      "execution_count": null,
      "outputs": []
    },
    {
      "cell_type": "markdown",
      "metadata": {
        "slideshow": {
          "slide_type": "subslide"
        }
      },
      "source": [
        "There are operators to combine multiple checks\n\nPython | What it does\n---|---\nand | both expressions are `True`\nor | at least one expression is `True`\nnot | reverse the expression (`True` becomes `False` and vice-versa)"
      ]
    },
    {
      "cell_type": "code",
      "metadata": {},
      "source": [
        "today = input('What day is it? ')\nsunny = input('Is it sunny? (y/n)')\n\nis_weekend = today == 'Saturday' or today == 'Sunday'\nis_sunny = sunny == 'y'\n\nis_beach_good_idea = is_weekend and is_sunny\n\nprint('You should go to the beach: {}'.format(is_beach_good_idea))"
      ],
      "execution_count": null,
      "outputs": []
    },
    {
      "cell_type": "markdown",
      "metadata": {
        "slideshow": {
          "slide_type": "subslide"
        }
      },
      "source": [
        "\n**Task:** Add code to your burger program to input whether the restaurant has a vegetarian option\n\nThe output should say whether the cost is within budget **AND** has a vegetarian option\n\n``` command-line\nRestaurant meets criteria: True\n```\n\n"
      ]
    },
    {
      "cell_type": "code",
      "metadata": {},
      "source": [
        "price = input('How much is a burger? ')\nvegetarian = input('Is there a vegetarian option? (y/n) ')\n\nwithin_budget = float(price) <= 10.00\nhas_vegetarian = vegetarian == 'y'\n\nis_good_choice = within_budget and has_vegetarian\n\nprint('Restaurant meets criteria: {}'.format(is_good_choice))"
      ],
      "execution_count": null,
      "outputs": []
    },
    {
      "cell_type": "markdown",
      "metadata": {
        "slideshow": {
          "slide_type": "slide"
        }
      },
      "source": [
        "### If Statements"
      ]
    },
    {
      "cell_type": "markdown",
      "metadata": {
        "slideshow": {
          "slide_type": "subslide"
        }
      },
      "source": [
        "**if statement:** used to run a block of code depending on whether a condition is `True` or `False`"
      ]
    },
    {
      "cell_type": "code",
      "metadata": {},
      "source": [
        "password = input('password: ')\n\nif password == 'jumanji':\n    print('Success!')"
      ],
      "execution_count": null,
      "outputs": []
    },
    {
      "cell_type": "markdown",
      "metadata": {
        "slideshow": {
          "slide_type": "subslide"
        }
      },
      "source": [
        "An `if` statement has the following:\n1. The `if` keyword\n1. A condition (logical operator expression)\n1. A colon\n1. Body (indented four spaces)"
      ]
    },
    {
      "cell_type": "code",
      "metadata": {},
      "source": [
        "name = input(\"What is your name? \")\npassword = input(\"What is your password? \")\n\nis_admin = name == 'admin'\nis_password_correct = password == 'dinosaurs'\n\nif is_admin and is_password_correct:\n    print('Welcome')\n\nif not is_admin or not is_password_correct:\n    print('Go away')"
      ],
      "execution_count": null,
      "outputs": []
    },
    {
      "cell_type": "markdown",
      "metadata": {
        "slideshow": {
          "slide_type": "subslide"
        }
      },
      "source": [
        "\n**Task:** Rewrite the output of your burger program to use if statements\n\nFor example:\n\n``` command-line\nThis restaurant is a great choice!\n```\n\nOR\n\n``` command-line\nProbably not a good idea\n```\n\n"
      ]
    },
    {
      "cell_type": "markdown",
      "metadata": {
        "slideshow": {
          "slide_type": "subslide"
        }
      },
      "source": [
        "**else statement:** Used with an `if` statement and will run when the `if` condition is `False`"
      ]
    },
    {
      "cell_type": "code",
      "metadata": {},
      "source": [
        "password = input('password: ')\n\nif password == 'jumanji':\n    print('Success!')\nelse:\n    print('Fail!')"
      ],
      "execution_count": null,
      "outputs": []
    },
    {
      "cell_type": "code",
      "metadata": {},
      "source": [
        "today = input('What day is it? ')\nraining = input('Is it sunny? (y/n)')\n\nis_weekend = today == 'Saturday' or today == 'Sunday'\nis_raining = raining == 'y'\n\nis_beach_good_idea = is_weekend and not is_raining\n\nif is_beach_good_idea:\n    print('You should go to the beach today!')\nelse:\n    print('Don't go to the beach today')"
      ],
      "execution_count": null,
      "outputs": []
    },
    {
      "cell_type": "markdown",
      "metadata": {
        "slideshow": {
          "slide_type": "slide"
        }
      },
      "source": [
        "### Functions\n\n---- \n\n**Function:** A reusable block of code"
      ]
    },
    {
      "cell_type": "code",
      "metadata": {},
      "source": [
        "def poem():\n    print('Doubt thou the stars are fire;')\n    print('Doubt that the sun doth move;')\n    print('Doubt truth to be a liar;')\n    print('But never doubt I love cats.')"
      ],
      "execution_count": null,
      "outputs": []
    },
    {
      "cell_type": "markdown",
      "metadata": {
        "slideshow": {
          "slide_type": "subslide"
        }
      },
      "source": [
        "All functions have\n1. a `def` operator\n1. a name\n1. brackets\n1. a colon\n1. body (indented 4 spaces)"
      ]
    },
    {
      "cell_type": "markdown",
      "metadata": {
        "slideshow": {
          "slide_type": "subslide"
        }
      },
      "source": [
        "\nWe call a function to use it\n\n"
      ]
    },
    {
      "cell_type": "code",
      "metadata": {},
      "source": [
        "def poem():\n    print('Doubt thou the stars are fire;')\n    print('Doubt that the sun doth move;')\n    print('Doubt truth to be a liar;')\n    print('But never doubt I love cats.')\n\n\npoem()"
      ],
      "execution_count": null,
      "outputs": []
    },
    {
      "cell_type": "markdown",
      "metadata": {
        "slideshow": {
          "slide_type": "subslide"
        }
      },
      "source": [
        "\nFunctions can be called many times\n\n"
      ]
    },
    {
      "cell_type": "code",
      "metadata": {},
      "source": [
        "def poem():\n    print('Doubt thou the stars are fire;')\n    print('Doubt that the sun doth move;')\n    print('Doubt truth to be a liar;')\n    print('But never doubt I love cats.')\n\n\npoem()\npoem()\npoem()\npoem()"
      ],
      "execution_count": null,
      "outputs": []
    },
    {
      "cell_type": "markdown",
      "metadata": {
        "slideshow": {
          "slide_type": "subslide"
        }
      },
      "source": [
        "**Task:** Using a function, write a poem (or copy one from the internet)\n\nCall the function three times to output the poem three times."
      ]
    },
    {
      "cell_type": "markdown",
      "metadata": {
        "slideshow": {
          "slide_type": "subslide"
        }
      },
      "source": [
        "**Argument:** A parameter used to change the behaviour of a function"
      ]
    },
    {
      "cell_type": "markdown",
      "metadata": {
        "slideshow": {
          "slide_type": "subslide"
        }
      },
      "source": [
        "\nArguments go inside the brackets and are treated like variables\n\n"
      ]
    },
    {
      "cell_type": "code",
      "metadata": {},
      "source": [
        "def poem(thing_that_i_love):\n    print('Doubt thou the stars are fire;')\n    print('Doubt that the sun doth move;')\n    print('Doubt truth to be a liar;')\n    print('But never doubt I love {}.'.format(thing_that_i_love))\n\n\npoem('pancakes')"
      ],
      "execution_count": null,
      "outputs": []
    },
    {
      "cell_type": "markdown",
      "metadata": {
        "slideshow": {
          "slide_type": "subslide"
        }
      },
      "source": [
        "**Task:** Modify your poem function to use an argument to set a single word in your poem.\n\n**Extension:** Use the `input()` with a variable. Use that variable for your function's argument."
      ]
    },
    {
      "cell_type": "code",
      "metadata": {},
      "source": [
        "def poem(thing_that_i_love):\n    print('Doubt thou the stars are fire;')\n    print('Doubt that the sun doth move;')\n    print('Doubt truth to be a liar;')\n    print('But never doubt I love {}.'.format(thing_that_i_love))\n\npoem(\"Python\")"
      ],
      "execution_count": null,
      "outputs": []
    },
    {
      "cell_type": "code",
      "metadata": {},
      "source": [
        "def poem(thing_that_i_love):\n    print('Doubt thou the stars are fire;')\n    print('Doubt that the sun doth move;')\n    print('Doubt truth to be a liar;')\n    print('But never doubt I love {}.'.format(thing_that_i_love))\n\n\nthing = input('Enter something that you love: ')\npoem(thing)"
      ],
      "execution_count": null,
      "outputs": []
    },
    {
      "cell_type": "markdown",
      "metadata": {
        "slideshow": {
          "slide_type": "subslide"
        }
      },
      "source": [
        "\nFunctions can have multiple arguments seperated by commas\n\n"
      ]
    },
    {
      "cell_type": "code",
      "metadata": {},
      "source": [
        "def poem(thing_that_i_love, author, title):\n    print(title)\n    print('')\n    print('Doubt thou the stars are fire;')\n    print('Doubt that the sun doth move;')\n    print('Doubt truth to be a liar;')\n    print('But never doubt I love {}.'.format(thing_that_i_love))\n    print('')\n    print('by {}'.format(author))\n\n\npoem('hamburgers', 'Hamburgler', 'A Poem About Hamburgers')"
      ],
      "execution_count": null,
      "outputs": []
    },
    {
      "cell_type": "markdown",
      "metadata": {
        "slideshow": {
          "slide_type": "subslide"
        }
      },
      "source": [
        "\nValues can be returned from functions using the `return` operator\n\n"
      ]
    },
    {
      "cell_type": "code",
      "metadata": {},
      "source": [
        "def add(num_1, num_2):\n    return num_1 + num_2\n\nmy_height = 182\nfriend_height = 160\n\ntotal_height = add(my_height, friend_height)\n\nprint(total_height)"
      ],
      "execution_count": null,
      "outputs": []
    },
    {
      "cell_type": "markdown",
      "metadata": {
        "slideshow": {
          "slide_type": "subslide"
        }
      },
      "source": [
        "\n**Task:** Complete the function to return the area of a circle\n\n\n\nUse the comments to help you\n\n"
      ]
    },
    {
      "cell_type": "code",
      "metadata": {},
      "source": [
        "def circle_area():  # add the radius argument inside the brackets\n    area = 3.14 * (radius ** 2)\n    # return area here\n\n\narea =  circle_area(10)\n\nprint(area)"
      ],
      "execution_count": null,
      "outputs": []
    },
    {
      "cell_type": "markdown",
      "metadata": {
        "slideshow": {
          "slide_type": "subslide"
        }
      },
      "source": [
        "\nAnswer\n\n"
      ]
    },
    {
      "cell_type": "code",
      "metadata": {},
      "source": [
        "def circle_area(radius):\n    area = 3.14 * (radius ** 2)\n    return area\n\narea = circle_area(9)\n\nprint(area)"
      ],
      "execution_count": null,
      "outputs": []
    },
    {
      "cell_type": "markdown",
      "metadata": {
        "slideshow": {
          "slide_type": "slide"
        }
      },
      "source": [
        "### Dictionaries"
      ]
    },
    {
      "cell_type": "markdown",
      "metadata": {
        "slideshow": {
          "slide_type": "subslide"
        }
      },
      "source": [
        "**Dictionary:** Stores a colleciton of labelled items. Each item has a key and a value"
      ]
    },
    {
      "cell_type": "code",
      "metadata": {},
      "source": [
        "person = {\n    'name': 'Jessica',\n    'age': 23,\n    'height': 172\n}"
      ],
      "execution_count": null,
      "outputs": []
    },
    {
      "cell_type": "markdown",
      "metadata": {
        "slideshow": {
          "slide_type": "subslide"
        }
      },
      "source": [
        "\nValues in a dictionary are accessed using their keys\n"
      ]
    },
    {
      "cell_type": "code",
      "metadata": {},
      "source": [
        "person = {\n    'name': 'Jessica',\n    'age': 23,\n    'height': 172\n}\n\nprint(person['name'])"
      ],
      "execution_count": null,
      "outputs": []
    },
    {
      "cell_type": "markdown",
      "metadata": {
        "slideshow": {
          "slide_type": "subslide"
        }
      },
      "source": [
        "\n**Task:** Print the values of `name`, `post_code` and `street_number` from the dictionary\n\n"
      ]
    },
    {
      "cell_type": "code",
      "metadata": {},
      "source": [
        "place = {\n    'name': 'The Anchor',\n    'post_code': 'E14 6HY',\n    'street_number': '54',\n    'location': {\n        'longitude': 127,\n        'latitude': 63,\n    }\n}"
      ],
      "execution_count": null,
      "outputs": []
    },
    {
      "cell_type": "markdown",
      "metadata": {},
      "source": [
        "\n**Extension:** Print the values of `longitude` and `latitude` from the inner dictionary\n\n"
      ]
    },
    {
      "cell_type": "markdown",
      "metadata": {
        "slideshow": {
          "slide_type": "subslide"
        }
      },
      "source": [
        "\nSolution\n\n"
      ]
    },
    {
      "cell_type": "code",
      "metadata": {},
      "source": [
        "place = {\n    'name': 'The Anchor',\n    'post_code': 'E14 6HY',\n    'street_number': '54',\n    'location': {\n        'longitude': 127,\n        'latitude': 63,\n    }\n}\n\nprint(place['name'])\nprint(place['post_code'])\nprint(place['street_number'])"
      ],
      "execution_count": null,
      "outputs": []
    },
    {
      "cell_type": "code",
      "metadata": {},
      "source": [
        "print(place['location']['longitude'])\nprint(place['location']['latitude'])\n\n\nlocation = place['location']\n\nprint(location['longitude'])\nprint(location['latitude'])"
      ],
      "execution_count": null,
      "outputs": []
    },
    {
      "cell_type": "markdown",
      "metadata": {
        "slideshow": {
          "slide_type": "subslide"
        }
      },
      "source": [
        "\nPutting dictionaries inside a list is very common\n\n"
      ]
    },
    {
      "cell_type": "code",
      "metadata": {},
      "source": [
        "people = [\n    {'name': 'Jessica', 'age': 23},\n    {'name': 'Trisha', 'age': 24},\n]\n\nfor person in people:\n    print(person['name'])\n    print(person['age'])"
      ],
      "execution_count": null,
      "outputs": []
    },
    {
      "cell_type": "markdown",
      "metadata": {
        "slideshow": {
          "slide_type": "subslide"
        }
      },
      "source": [
        "\n**Task:** Using a for loop, output the values `name`, `colour` and `price` of each dictionary in the list\n\n"
      ]
    },
    {
      "cell_type": "code",
      "metadata": {},
      "source": [
        "fruits = [\n    {'name': 'apple', 'colour': 'red', 'price': 0.12},\n    {'name': 'banana', 'colour': 'yellow', 'price': 0.2},\n    {'name': 'pear', 'colour': 'green', 'price': 0.19},\n]"
      ],
      "execution_count": null,
      "outputs": []
    },
    {
      "cell_type": "code",
      "metadata": {},
      "source": [
        "fruits = [\n    {'name': 'apple', 'colour': 'red', 'price': 0.12},\n    {'name': 'banana', 'colour': 'yellow', 'price': 0.2},\n    {'name': 'pear', 'colour': 'green', 'price': 0.19},\n]\n\nfor fruit in fruits:\n    print(fruit['name'])\n    print(fruit['colour'])\n    print(fruit['price'])"
      ],
      "execution_count": null,
      "outputs": []
    },
    {
      "cell_type": "markdown",
      "metadata": {},
      "source": [
        "\n\n---\n"
      ]
    }
  ],
  "metadata": {
    "kernelspec": {
      "display_name": "Python 3",
      "language": "python",
      "name": "python3"
    },
    "language_info": {
      "codemirror_mode": {
        "name": "ipython",
        "version": 3
      },
      "file_extension": ".py",
      "mimetype": "text/x-python",
      "name": "python",
      "nbconvert_exporter": "python",
      "pygments_lexer": "ipython3",
      "version": "3.6.7"
    },
    "livereveal": {
      "scroll": true,
      "progress": true,
      "start_slideshow_at": "selected",
      "footer": "<img src=\"images/logo.png\" style=\"margin-left: 20px; margin-bottom: 20px;\"/>"
    },
    "rise": {
      "enable_chalkboard": true
    }
  },
  "nbformat": 4,
  "nbformat_minor": 2
}