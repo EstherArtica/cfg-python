{
  "cells": [
    {
      "cell_type": "markdown",
      "metadata": {
        "slideshow": {
          "slide_type": "slide"
        }
      },
      "source": [
        "**Starter:** ???"
      ]
    },
    {
      "cell_type": "markdown",
      "metadata": {
        "slideshow": {
          "slide_type": "slide"
        }
      },
      "source": [
        "![Code First: Girls](images/logo_large.png)\n\n#### Python Session 3"
      ]
    },
    {
      "cell_type": "markdown",
      "metadata": {
        "slideshow": {
          "slide_type": "subslide"
        }
      },
      "source": [
        "This session:\n1. Logical Operators\n1. If Statements\n1. Functions\n1. Dictionaries"
      ]
    },
    {
      "cell_type": "markdown",
      "metadata": {
        "slideshow": {
          "slide_type": "slide"
        }
      },
      "source": [
        "### Logical Operators"
      ]
    },
    {
      "cell_type": "markdown",
      "metadata": {
        "slideshow": {
          "slide_type": "subslide"
        }
      },
      "source": [
        "**Bolean:** A data-type that is either `True` or `False`\n\n**Logical Operators:** used to check if an expression is `True` or `False`"
      ]
    },
    {
      "cell_type": "markdown",
      "metadata": {
        "slideshow": {
          "slide_type": "subslide"
        }
      },
      "source": [
        "\nThis code checks if the user has input `'Monday'` using the `==` operator\n\n"
      ]
    },
    {
      "cell_type": "code",
      "metadata": {},
      "source": [
        "today = input('What day is it? ')\n\nis_monday = today == 'Monday'\n\nprint('Today is Monday: {}'.format(is_monday))"
      ],
      "execution_count": null,
      "outputs": []
    },
    {
      "cell_type": "markdown",
      "metadata": {
        "slideshow": {
          "slide_type": "subslide"
        }
      },
      "source": [
        "Operators in Python\n\nName | Python\n---|---\nEqual to | `==`\nNot equal | `!=`\nGreater than | `>`\nLess than | `<`\nGreater than or equal | `>=`\nLess than or equal | `<=`"
      ]
    },
    {
      "cell_type": "markdown",
      "metadata": {
        "slideshow": {
          "slide_type": "subslide"
        }
      },
      "source": [
        "\nThis code checks if today is not Monday\n"
      ]
    },
    {
      "cell_type": "code",
      "metadata": {},
      "source": [
        "today = input('What day is it? ')\n\nis_not_monday = today != 'Monday'\n\nprint('Today is not Monday: {}'.format(is_not_monday))"
      ],
      "execution_count": null,
      "outputs": []
    },
    {
      "cell_type": "markdown",
      "metadata": {
        "slideshow": {
          "slide_type": "subslide"
        }
      },
      "source": [
        "\n**Exercise:** You have a budget of \u00a310 and want to write a program to decide which burger restaurant to go to.\n\n1. Input the `price` of a burger using `input()`\n1. Check whether the `price` is less than or equal (`<=`) `10.00`\n1. Print the result in the format below\n\n```bash\nBurger is within budget: True\n```\n\n**Hint:** remember to convert the input from a string to a decimal with `float()`\n\n"
      ]
    },
    {
      "cell_type": "markdown",
      "metadata": {
        "slideshow": {
          "slide_type": "subslide"
        }
      },
      "source": [
        "\n\nAnswer\n\n"
      ]
    },
    {
      "cell_type": "code",
      "metadata": {},
      "source": [
        "price = input('How much is a burger? ')\n\nwithin_budget = float(price) <= 10.00\n\nprint('Burger is within budget: {}'.format(within_budget))"
      ],
      "execution_count": null,
      "outputs": []
    },
    {
      "cell_type": "markdown",
      "metadata": {
        "slideshow": {
          "slide_type": "subslide"
        }
      },
      "source": [
        "There are operators to combine multiple checks\n\nPython | What it does\n---|---\nand | both expressions are `True`\nor | at least one expression is `True`\nnot | reverse the expression (`True` becomes `False` and vice-versa)"
      ]
    },
    {
      "cell_type": "markdown",
      "metadata": {
        "slideshow": {
          "slide_type": "subslide"
        }
      },
      "source": [
        "\nThis program will work out if you should buy a hat:\n\n"
      ]
    },
    {
      "cell_type": "code",
      "metadata": {},
      "source": [
        "enough_money = True\nhat_looks_good = True\n\nshould_buy_hat = enough_money and hat_looks_good\n\nprint('You should buy the hat: {}'.format(should_buy_hat))"
      ],
      "execution_count": null,
      "outputs": []
    },
    {
      "cell_type": "markdown",
      "metadata": {
        "slideshow": {
          "slide_type": "subslide"
        }
      },
      "source": [
        "\n**Exercise:** Add code to your burger program to input whether the restaurant has a vegetarian option\n\nThe output should say whether the cost is within budget **AND** has a vegetarian option\n\n```bash\nRestaurant meets criteria: True\n```\n\n"
      ]
    },
    {
      "cell_type": "markdown",
      "metadata": {
        "slideshow": {
          "slide_type": "subslide"
        }
      },
      "source": [
        "\nSolution:\n\n"
      ]
    },
    {
      "cell_type": "code",
      "metadata": {},
      "source": [
        "price = input('How much is a burger? ')\nvegetarian = input('Is there a vegetarian option? (y/n) ')\n\nwithin_budget = float(price) <= 10.00\nhas_vegetarian = vegetarian == 'y'\n\nis_good_choice = within_budget and has_vegetarian\n\nprint('Restaurant meets criteria: {}'.format(is_good_choice))"
      ],
      "execution_count": null,
      "outputs": []
    },
    {
      "cell_type": "markdown",
      "metadata": {
        "slideshow": {
          "slide_type": "slide"
        }
      },
      "source": [
        "### If Statements"
      ]
    },
    {
      "cell_type": "markdown",
      "metadata": {
        "slideshow": {
          "slide_type": "subslide"
        }
      },
      "source": [
        "**if statement:** used to run a block of code depending on whether a condition is `True` or `False`"
      ]
    },
    {
      "cell_type": "code",
      "metadata": {},
      "source": [
        "password = input('password: ')\n\nif password == 'jumanji':\n    print('Success!')"
      ],
      "execution_count": null,
      "outputs": []
    },
    {
      "cell_type": "markdown",
      "metadata": {
        "slideshow": {
          "slide_type": "subslide"
        }
      },
      "source": [
        "An `if` statement has the following:\n1. The `if` keyword\n1. A condition (logical operator expression)\n1. A colon\n1. Body (indented four spaces)"
      ]
    },
    {
      "cell_type": "markdown",
      "metadata": {
        "slideshow": {
          "slide_type": "subslide"
        }
      },
      "source": [
        "\nThis program checks whether you are an admin and you have entered the right password:\n\n"
      ]
    },
    {
      "cell_type": "code",
      "metadata": {},
      "source": [
        "name = input(\"What is your name? \")\npassword = input(\"What is your password? \")\n\nis_admin = name == 'admin'\nis_password_correct = password == 'dinosaurs'\n\nif is_admin and is_password_correct:\n    print('Welcome')\n\nif not is_admin or not is_password_correct:\n    print('Go away')"
      ],
      "execution_count": null,
      "outputs": []
    },
    {
      "cell_type": "markdown",
      "metadata": {
        "slideshow": {
          "slide_type": "subslide"
        }
      },
      "source": [
        "\n**Exercise:** Rewrite the output of your burger program to use if statements\n\nDepending on the input the output should be:\n\n```bash\nThis restaurant is a great choice!\n```\n\nOtherwise it should be:\n\n```bash\nProbably not a good idea\n```\n\n"
      ]
    },
    {
      "cell_type": "markdown",
      "metadata": {
        "slideshow": {
          "slide_type": "subslide"
        }
      },
      "source": [
        "**else statement:** Used with an `if` statement and will run when the `if` condition is `False`"
      ]
    },
    {
      "cell_type": "code",
      "metadata": {},
      "source": [
        "password = input('password: ')\n\nif password == 'jumanji':\n    print('Success!')\nelse:\n    print('Fail!')"
      ],
      "execution_count": null,
      "outputs": []
    },
    {
      "cell_type": "markdown",
      "metadata": {
        "slideshow": {
          "slide_type": "subslide"
        }
      },
      "source": [
        "\nHere's the program that helps you decide whether to buy a hat using `if` and `else`:\n\n"
      ]
    },
    {
      "cell_type": "code",
      "metadata": {},
      "source": [
        "enough_money = True\nhat_looks_good = True\n\nif enough_money and hat_looks_good:\n    print('Go for it!')\nelse:\n    print('Probably not a good idea')"
      ],
      "execution_count": null,
      "outputs": []
    },
    {
      "cell_type": "markdown",
      "metadata": {
        "slideshow": {
          "slide_type": "slide"
        }
      },
      "source": [
        "### Dictionaries"
      ]
    },
    {
      "cell_type": "markdown",
      "metadata": {
        "slideshow": {
          "slide_type": "subslide"
        }
      },
      "source": [
        "**Dictionary:** Stores a colleciton of labelled items. Each item has a key and a value"
      ]
    },
    {
      "cell_type": "code",
      "metadata": {},
      "source": [
        "person = {\n    'name': 'Jessica',\n    'age': 23,\n    'height': 172\n}"
      ],
      "execution_count": null,
      "outputs": []
    },
    {
      "cell_type": "markdown",
      "metadata": {
        "slideshow": {
          "slide_type": "subslide"
        }
      },
      "source": [
        "\nValues in a dictionary are accessed using their keys\n"
      ]
    },
    {
      "cell_type": "code",
      "metadata": {},
      "source": [
        "person = {\n    'name': 'Jessica',\n    'age': 23,\n    'height': 172\n}\n\nprint(person['name'])"
      ],
      "execution_count": null,
      "outputs": []
    },
    {
      "cell_type": "markdown",
      "metadata": {
        "slideshow": {
          "slide_type": "subslide"
        }
      },
      "source": [
        "\n**Exercise:** Print the values of `name`, `post_code` and `street_number` from the dictionary\n\n"
      ]
    },
    {
      "cell_type": "code",
      "metadata": {},
      "source": [
        "place = {\n    'name': 'The Anchor',\n    'post_code': 'E14 6HY',\n    'street_number': '54',\n    'location': {\n        'longitude': 127,\n        'latitude': 63,\n    }\n}"
      ],
      "execution_count": null,
      "outputs": []
    },
    {
      "cell_type": "markdown",
      "metadata": {},
      "source": [
        "\n**Extension:** Print the values of `longitude` and `latitude` from the inner dictionary\n\n"
      ]
    },
    {
      "cell_type": "markdown",
      "metadata": {
        "slideshow": {
          "slide_type": "subslide"
        }
      },
      "source": [
        "\nSolution:\n\n"
      ]
    },
    {
      "cell_type": "code",
      "metadata": {},
      "source": [
        "place = {\n    'name': 'The Anchor',\n    'post_code': 'E14 6HY',\n    'street_number': '54',\n    'location': {\n        'longitude': 127,\n        'latitude': 63,\n    }\n}\n\nprint(place['name'])\nprint(place['post_code'])\nprint(place['street_number'])"
      ],
      "execution_count": null,
      "outputs": []
    },
    {
      "cell_type": "markdown",
      "metadata": {
        "slideshow": {
          "slide_type": "subslide"
        }
      },
      "source": [
        "\nExtension:\n\n"
      ]
    },
    {
      "cell_type": "code",
      "metadata": {},
      "source": [
        "print(place['location']['longitude'])\nprint(place['location']['latitude'])\n\n\nlocation = place['location']\n\nprint(location['longitude'])\nprint(location['latitude'])"
      ],
      "execution_count": null,
      "outputs": []
    },
    {
      "cell_type": "markdown",
      "metadata": {
        "slideshow": {
          "slide_type": "subslide"
        }
      },
      "source": [
        "\nPutting dictionaries inside a list is very common\n\n"
      ]
    },
    {
      "cell_type": "code",
      "metadata": {},
      "source": [
        "people = [\n    {'name': 'Jessica', 'age': 23},\n    {'name': 'Trisha', 'age': 24},\n]\n\nfor person in people:\n    print(person['name'])\n    print(person['age'])"
      ],
      "execution_count": null,
      "outputs": []
    },
    {
      "cell_type": "markdown",
      "metadata": {
        "slideshow": {
          "slide_type": "subslide"
        }
      },
      "source": [
        "\n**Exercise:** Using a for loop, output the values `name`, `colour` and `price` of each dictionary in the list\n\n"
      ]
    },
    {
      "cell_type": "code",
      "metadata": {},
      "source": [
        "fruits = [\n    {'name': 'apple', 'colour': 'red', 'price': 0.12},\n    {'name': 'banana', 'colour': 'yellow', 'price': 0.2},\n    {'name': 'pear', 'colour': 'green', 'price': 0.19},\n]"
      ],
      "execution_count": null,
      "outputs": []
    },
    {
      "cell_type": "markdown",
      "metadata": {
        "slideshow": {
          "slide_type": "subslide"
        }
      },
      "source": [
        "\nSolution\n\n"
      ]
    },
    {
      "cell_type": "code",
      "metadata": {},
      "source": [
        "fruits = [\n    {'name': 'apple', 'colour': 'red', 'price': 0.12},\n    {'name': 'banana', 'colour': 'yellow', 'price': 0.2},\n    {'name': 'pear', 'colour': 'green', 'price': 0.19},\n]\n\nfor fruit in fruits:\n    print(fruit['name'])\n    print(fruit['colour'])\n    print(fruit['price'])"
      ],
      "execution_count": null,
      "outputs": []
    },
    {
      "cell_type": "markdown",
      "metadata": {
        "slideshow": {
          "slide_type": "slide"
        }
      },
      "source": [
        "### Recap"
      ]
    },
    {
      "cell_type": "markdown",
      "metadata": {
        "slideshow": {
          "slide_type": "subslide"
        }
      },
      "source": [
        "This session:\n1. Logical Operators\n1. If Statements\n1. Functions\n1. Dictionaries"
      ]
    }
  ],
  "metadata": {
    "kernelspec": {
      "display_name": "Python 3",
      "language": "python",
      "name": "python3"
    },
    "language_info": {
      "codemirror_mode": {
        "name": "ipython",
        "version": 3
      },
      "file_extension": ".py",
      "mimetype": "text/x-python",
      "name": "python",
      "nbconvert_exporter": "python",
      "pygments_lexer": "ipython3",
      "version": "3.6.7"
    },
    "livereveal": {
      "scroll": true,
      "progress": true,
      "start_slideshow_at": "selected",
      "footer": "<img src=\"images/logo.png\" style=\"margin-left: 20px; margin-bottom: 20px;\"/>"
    },
    "rise": {
      "enable_chalkboard": true
    }
  },
  "nbformat": 4,
  "nbformat_minor": 2
}