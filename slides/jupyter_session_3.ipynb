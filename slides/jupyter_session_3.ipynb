{
  "cells": [
    {
      "cell_type": "markdown",
      "metadata": {
        "slideshow": {
          "slide_type": "slide"
        }
      },
      "source": [
        "**Task:** Go to this url\n\n[http://bit.ly/2D4YuEx](http://bit.ly/2D4YuEx)\n\nCopy and fix the code with a partner"
      ]
    },
    {
      "cell_type": "markdown",
      "metadata": {
        "slideshow": {
          "slide_type": "subslide"
        }
      },
      "source": [
        "\nSolution\n"
      ]
    },
    {
      "cell_type": "code",
      "metadata": {},
      "source": [
        "my_routine = ['wake up', 'shower', 'get the train', 'work', 'go home', 'eat', 'sleep']\n\ndays = ['mon', 'tues', 'wed', 'thurs', 'fri']\n\nfor day in days:\n    print('Today is {}'.format(day))\n    print('I need to')\n\n    for item in my_routine:\n        print(item)\n\n    print('')"
      ],
      "execution_count": null,
      "outputs": []
    },
    {
      "cell_type": "markdown",
      "metadata": {
        "slideshow": {
          "slide_type": "slide"
        }
      },
      "source": [
        "# Code First: Girls\n\n#### Python Session 3"
      ]
    },
    {
      "cell_type": "markdown",
      "metadata": {
        "slideshow": {
          "slide_type": "slide"
        }
      },
      "source": [
        "Session 4 in the course guide\n\nCourse guide content will be covered in Session 5"
      ]
    },
    {
      "cell_type": "markdown",
      "metadata": {
        "slideshow": {
          "slide_type": "slide"
        }
      },
      "source": [
        "This session:\n1. Logical Operators\n1. If Statements\n1. Importing Python libraries"
      ]
    },
    {
      "cell_type": "markdown",
      "metadata": {
        "slideshow": {
          "slide_type": "slide"
        }
      },
      "source": [
        "### Logical Operators"
      ]
    },
    {
      "cell_type": "markdown",
      "metadata": {
        "slideshow": {
          "slide_type": "subslide"
        }
      },
      "source": [
        "**Logical Operators:** used to check if an expression is `True` or `False`"
      ]
    },
    {
      "cell_type": "markdown",
      "metadata": {
        "slideshow": {
          "slide_type": "subslide"
        }
      },
      "source": [
        "\nThis code checks if the user has input `'Monday'` using the `==` operator\n\n"
      ]
    },
    {
      "cell_type": "code",
      "metadata": {},
      "source": [
        "today = input('What day is it? ')\n\nis_monday = today == 'Monday'\n\nprint('Today is Monday: {}'.format(is_monday))"
      ],
      "execution_count": null,
      "outputs": []
    },
    {
      "cell_type": "markdown",
      "metadata": {
        "slideshow": {
          "slide_type": "subslide"
        }
      },
      "source": [
        "Operators in Python\n\nName | Python\n---|---\nEqual to | `==`\nNot equal | `!=`\nGreater than | `>`\nLess than | `<`\nGreater than or equal | `>=`\nLess than or equal | `<=`"
      ]
    },
    {
      "cell_type": "markdown",
      "metadata": {
        "slideshow": {
          "slide_type": "subslide"
        }
      },
      "source": [
        "\nThis code checks if today is not Monday\n"
      ]
    },
    {
      "cell_type": "code",
      "metadata": {},
      "source": [
        "today = input('What day is it? ')\n\nis_not_monday = today != 'Monday'\n\nprint('Today is not Monday: {}'.format(is_not_monday))"
      ],
      "execution_count": null,
      "outputs": []
    },
    {
      "cell_type": "markdown",
      "metadata": {
        "slideshow": {
          "slide_type": "subslide"
        }
      },
      "source": [
        "\n**Task:** You have a budget of \u00a310 and want to write a program to decide which burger restaurant to go to.\n\n1. Input the `price` of a burger using `input()`\n1. Check whether the `price` is less than or equal (`<=`) `10.00`\n1. Print the result in the format below\n\n``` command-line\nBurger is within budget: True\n```\n\n**Hint:** remember to convert the input from a string to a decimal with `float()`\n\n"
      ]
    },
    {
      "cell_type": "markdown",
      "metadata": {
        "slideshow": {
          "slide_type": "subslide"
        }
      },
      "source": [
        "\n\nAnswer\n\n"
      ]
    },
    {
      "cell_type": "code",
      "metadata": {},
      "source": [
        "price = input('How much is a burger? ')\n\nwithin_budget = float(price) <= 10.00\n\nprint('Burger is within budget: {}'.format(within_budget))"
      ],
      "execution_count": null,
      "outputs": []
    },
    {
      "cell_type": "markdown",
      "metadata": {
        "slideshow": {
          "slide_type": "subslide"
        }
      },
      "source": [
        "There are operators to combine multiple checks\n\nPython | What it does\n---|---\nand | both expressions are `True`\nor | at least one expression is `True`\nnot | reverse the expression (`True` becomes `False` and vice-versa)"
      ]
    },
    {
      "cell_type": "code",
      "metadata": {},
      "source": [
        "today = input('What day is it? ')\nsunny = input('Is it sunny? (y/n)')\n\nis_weekend = today == 'Saturday' or today == 'Sunday'\nis_sunny = sunny == 'y'\n\nis_beach_good_idea = is_weekend and is_sunny\n\nprint('You should go to the beach: {}'.format(is_beach_good_idea))"
      ],
      "execution_count": null,
      "outputs": []
    },
    {
      "cell_type": "markdown",
      "metadata": {
        "slideshow": {
          "slide_type": "subslide"
        }
      },
      "source": [
        "\n**Task:** Add code to your burger program to input whether the restaurant has a vegetarian option\n\nThe output should say whether the cost is within budget **AND** has a vegetarian option\n\n``` command-line\nRestaurant meets criteria: True\n```\n\n"
      ]
    },
    {
      "cell_type": "code",
      "metadata": {},
      "source": [
        "price = input('How much is a burger? ')\nvegetarian = input('Is there a vegetarian option? (y/n) ')\n\nwithin_budget = float(price) <= 10.00\nhas_vegetarian = vegetarian == 'y'\n\nis_good_choice = within_budget and has_vegetarian\n\nprint('Restaurant meets criteria: {}'.format(is_good_choice))"
      ],
      "execution_count": null,
      "outputs": []
    },
    {
      "cell_type": "markdown",
      "metadata": {
        "slideshow": {
          "slide_type": "slide"
        }
      },
      "source": [
        "### If Statements"
      ]
    },
    {
      "cell_type": "markdown",
      "metadata": {
        "slideshow": {
          "slide_type": "subslide"
        }
      },
      "source": [
        "**if statement:** used to run a block of code depending on whether a condition is `True` or `False`"
      ]
    },
    {
      "cell_type": "code",
      "metadata": {},
      "source": [
        "password = input('password: ')\n\nif password == 'jumanji':\n    print('Success!')"
      ],
      "execution_count": null,
      "outputs": []
    },
    {
      "cell_type": "markdown",
      "metadata": {
        "slideshow": {
          "slide_type": "subslide"
        }
      },
      "source": [
        "An `if` statement has the following:\n1. The `if` keyword\n1. A condition (logical operator expression)\n1. A colon\n1. Body (indented four spaces)"
      ]
    },
    {
      "cell_type": "code",
      "metadata": {},
      "source": [
        "name = input(\"What is your name? \")\npassword = input(\"What is your password? \")\n\nis_admin = name == 'admin'\nis_password_correct = password == 'dinosaurs'\n\nif is_admin and is_password_correct:\n    print('Welcome')\n\nif not is_admin or not is_password_correct:\n    print('Go away')"
      ],
      "execution_count": null,
      "outputs": []
    },
    {
      "cell_type": "markdown",
      "metadata": {
        "slideshow": {
          "slide_type": "subslide"
        }
      },
      "source": [
        "\n**Task:** Rewrite the output of your burger program to use if statements\n\nFor example:\n\n``` command-line\nThis restaurant is a great choice!\n```\n\nOR\n\n``` command-line\nProbably not a good idea\n```\n\n"
      ]
    },
    {
      "cell_type": "markdown",
      "metadata": {
        "slideshow": {
          "slide_type": "subslide"
        }
      },
      "source": [
        "**else statement:** Used with an `if` statement and will run when the `if` condition is `False`"
      ]
    },
    {
      "cell_type": "code",
      "metadata": {},
      "source": [
        "password = input('password: ')\n\nif password == 'jumanji':\n    print('Success!')\nelse:\n    print('Fail!')"
      ],
      "execution_count": null,
      "outputs": []
    },
    {
      "cell_type": "code",
      "metadata": {},
      "source": [
        "today = input('What day is it? ')\nraining = input('Is it sunny? (y/n)')\n\nis_weekend = today == 'Saturday' or today == 'Sunday'\nis_raining = raining == 'y'\n\nis_beach_good_idea = is_weekend and not is_raining\n\nif is_beach_good_idea:\n    print('You should go to the beach today!')\nelse:\n    print('Don't go to the beach today')"
      ],
      "execution_count": null,
      "outputs": []
    },
    {
      "cell_type": "markdown",
      "metadata": {
        "slideshow": {
          "slide_type": "slide"
        }
      },
      "source": [
        "### Python Libraries"
      ]
    },
    {
      "cell_type": "markdown",
      "metadata": {
        "slideshow": {
          "slide_type": "subslide"
        }
      },
      "source": [
        "**Library/Module:** A collection of reusable code that someone else has written\n\nPython has lots of useful built-in libraries and can be extended with third-party libraries."
      ]
    },
    {
      "cell_type": "markdown",
      "metadata": {
        "slideshow": {
          "slide_type": "subslide"
        }
      },
      "source": [
        "\n\nThe built-in turtle module is based on Logo and can be used to draw basic images\n\n"
      ]
    },
    {
      "cell_type": "code",
      "metadata": {},
      "source": [
        "import turtle\n\nturtle.forward(100)\nturtle.right(90)\n\nturtle.done()"
      ],
      "execution_count": null,
      "outputs": []
    },
    {
      "cell_type": "markdown",
      "metadata": {},
      "source": [
        "\n**Tip:** Do not save this file as `turtle.py`\n\n\n"
      ]
    },
    {
      "cell_type": "markdown",
      "metadata": {
        "slideshow": {
          "slide_type": "subslide"
        }
      },
      "source": [
        "![Basic turtle example](images/turtle.png)"
      ]
    },
    {
      "cell_type": "markdown",
      "metadata": {
        "slideshow": {
          "slide_type": "subslide"
        }
      },
      "source": [
        "\nImported libraries can be mixed with other Python expressions\n\n"
      ]
    },
    {
      "cell_type": "code",
      "metadata": {},
      "source": [
        "import turtle\n\nfor index in range(4):\n    turtle.forward(100)\n    turtle.right(90)\n\nturtle.done()"
      ],
      "execution_count": null,
      "outputs": []
    },
    {
      "cell_type": "markdown",
      "metadata": {
        "slideshow": {
          "slide_type": "subslide"
        }
      },
      "source": [
        "![A square drawn by a turtle](images/turtle_square.png)"
      ]
    },
    {
      "cell_type": "markdown",
      "metadata": {
        "slideshow": {
          "slide_type": "subslide"
        }
      },
      "source": [
        "\nThe built-in random module is used to generate random numbers\n\n"
      ]
    },
    {
      "cell_type": "code",
      "metadata": {},
      "source": [
        "from random import randint\n\nnumber = randint(1, 10)\n\nprint(number)"
      ],
      "execution_count": null,
      "outputs": []
    },
    {
      "cell_type": "markdown",
      "metadata": {},
      "source": [
        "\nTip: **Do not** save this program as `random.py`\n\n\n"
      ]
    },
    {
      "cell_type": "markdown",
      "metadata": {
        "slideshow": {
          "slide_type": "subslide"
        }
      },
      "source": [
        "**Task:** Using the **turtle** and **random** modules, draw a spiral with a random angle\n\n![Random spiral](images/random_turtle.png)"
      ]
    },
    {
      "cell_type": "markdown",
      "metadata": {
        "slideshow": {
          "slide_type": "subslide"
        }
      },
      "source": [
        "\nSolution:\n\n"
      ]
    },
    {
      "cell_type": "code",
      "metadata": {},
      "source": [
        "import turtle\nfrom random import randint\n\nangle = randint(45, 90)\n\nfor length in range(200):\n    turtle.forward(length)\n    turtle.right(angle)\n\nturtle.done()"
      ],
      "execution_count": null,
      "outputs": []
    }
  ],
  "metadata": {
    "kernelspec": {
      "display_name": "Python 3",
      "language": "python",
      "name": "python3"
    },
    "language_info": {
      "codemirror_mode": {
        "name": "ipython",
        "version": 3
      },
      "file_extension": ".py",
      "mimetype": "text/x-python",
      "name": "python",
      "nbconvert_exporter": "python",
      "pygments_lexer": "ipython3",
      "version": "3.6.7"
    },
    "livereveal": {
      "scroll": true,
      "progress": true,
      "start_slideshow_at": "selected",
      "footer": "<img src=\"images/logo.png\" style=\"margin-left: 20px; margin-bottom: 20px;\"/>"
    },
    "rise": {
      "enable_chalkboard": true
    }
  },
  "nbformat": 4,
  "nbformat_minor": 2
}