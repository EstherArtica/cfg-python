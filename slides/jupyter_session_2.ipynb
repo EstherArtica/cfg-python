{
  "cells": [
    {
      "cell_type": "markdown",
      "metadata": {
        "slideshow": {
          "slide_type": "slide"
        }
      },
      "source": [
        "**Starter:** Discuss your homework with the person sitting next to you"
      ]
    },
    {
      "cell_type": "markdown",
      "metadata": {
        "slideshow": {
          "slide_type": "slide"
        }
      },
      "source": [
        "![Code First: Girls](images/logo_large.png)\n\n#### Python Session 2"
      ]
    },
    {
      "cell_type": "markdown",
      "metadata": {
        "slideshow": {
          "slide_type": "subslide"
        }
      },
      "source": [
        "This session:\n1. Importing libraries\n1. Problem solving with Turtle\n1. For Loops\n1. Lists"
      ]
    },
    {
      "cell_type": "markdown",
      "metadata": {
        "slideshow": {
          "slide_type": "slide"
        }
      },
      "source": [
        "### Python  Libraries"
      ]
    },
    {
      "cell_type": "markdown",
      "metadata": {
        "slideshow": {
          "slide_type": "subslide"
        }
      },
      "source": [
        "**Library:** Structured code that someone else has written that you can reuse in your programs"
      ]
    },
    {
      "cell_type": "markdown",
      "metadata": {
        "slideshow": {
          "slide_type": "subslide"
        }
      },
      "source": [
        "\nLibraries are imported into your Python programs:\n\n"
      ]
    },
    {
      "cell_type": "code",
      "metadata": {},
      "source": [
        "import turtle"
      ],
      "execution_count": null,
      "outputs": []
    },
    {
      "cell_type": "markdown",
      "metadata": {},
      "source": [
        "\nTurtle is library for creating basic drawings.\n\n"
      ]
    },
    {
      "cell_type": "markdown",
      "metadata": {
        "slideshow": {
          "slide_type": "subslide"
        }
      },
      "source": [
        "\nAfter importing a library you can use the library's functions:\n\n"
      ]
    },
    {
      "cell_type": "code",
      "metadata": {},
      "source": [
        "import turtle\n\nturtle.forward(100)\nturtle.right(130)\nturtle.forward(100)\n\nturtle.done()"
      ],
      "execution_count": null,
      "outputs": []
    },
    {
      "cell_type": "markdown",
      "metadata": {
        "slideshow": {
          "slide_type": "subslide"
        }
      },
      "source": [
        "`turtle.forward(100)` moves the turtle forward by a number of pixels\n\n`turtle.right(130)` rotates the turtle by a number of degrees\n\n`turtle.done()` tells the turtle that you've finished giving it commands. Without this it will wait for new commands (if run from the shell) or disappear (if run from file)."
      ]
    },
    {
      "cell_type": "markdown",
      "metadata": {
        "slideshow": {
          "slide_type": "subslide"
        }
      },
      "source": [
        "The turtle's speed can be set with `turtle.speed(1)` for slow"
      ]
    },
    {
      "cell_type": "markdown",
      "metadata": {
        "slideshow": {
          "slide_type": "slide"
        }
      },
      "source": [
        "### Problem Solving (with Turtles)"
      ]
    },
    {
      "cell_type": "markdown",
      "metadata": {
        "slideshow": {
          "slide_type": "subslide"
        }
      },
      "source": [
        "\nLet's make square together (file name `square.py`)\n\nA square has **four** sides and an angle of **ninety** degrees:\n\n"
      ]
    },
    {
      "cell_type": "code",
      "metadata": {},
      "source": [
        "import turtle\n\nturtle.forward(100)\nturtle.right(90)\n\nturtle.forward(100)\nturtle.right(90)\n\nturtle.forward(100)\nturtle.right(90)\n\nturtle.forward(100)\nturtle.right(90)\n\nturtle.done()"
      ],
      "execution_count": null,
      "outputs": []
    },
    {
      "cell_type": "markdown",
      "metadata": {
        "slideshow": {
          "slide_type": "subslide"
        }
      },
      "source": [
        "\nVariables can be used to set the angles and size of your shapes:\n\n"
      ]
    },
    {
      "cell_type": "code",
      "metadata": {},
      "source": [
        "import turtle\n\nside_length = 200\nangle = 90\n\nturtle.forward(side_length)\nturtle.right(angle)\n\nturtle.forward(side_length)\nturtle.right(angle)\n\nturtle.forward(side_length)\nturtle.right(angle)\n\nturtle.forward(side_length)\nturtle.right(angle)\n\nturtle.done()"
      ],
      "execution_count": null,
      "outputs": []
    },
    {
      "cell_type": "markdown",
      "metadata": {},
      "source": [
        "\nChange `square.py` to use variables\n\n"
      ]
    },
    {
      "cell_type": "markdown",
      "metadata": {
        "slideshow": {
          "slide_type": "subslide"
        }
      },
      "source": [
        "\nYou can play around with filling the shape and colors:\n\n"
      ]
    },
    {
      "cell_type": "code",
      "metadata": {},
      "source": [
        "import turtle\n\nside_length = 200\nangle = 90\n\nturtle.fillcolor('red')\nturtle.begin_fill()\n\nturtle.forward(side_length)\nturtle.right(angle)\n\nturtle.forward(side_length)\nturtle.right(angle)\n\nturtle.forward(side_length)\nturtle.right(angle)\n\nturtle.forward(side_length)\nturtle.right(angle)\n\nturtle.end_fill()\n\nturtle.done()"
      ],
      "execution_count": null,
      "outputs": []
    },
    {
      "cell_type": "markdown",
      "metadata": {
        "slideshow": {
          "slide_type": "subslide"
        }
      },
      "source": [
        "**Task:** Using `turtle` draw a triangle\n\nA triangle has **three** sides and an angle of **120** degrees\n\n**Extension:** Make the triangle blue"
      ]
    },
    {
      "cell_type": "markdown",
      "metadata": {
        "slideshow": {
          "slide_type": "subslide"
        }
      },
      "source": [
        "\nAnswer:\n\n"
      ]
    },
    {
      "cell_type": "code",
      "metadata": {},
      "source": [
        "import turtle\n\nside_length = 100\nangle = 120\n\nturtle.forward(side_length)\nturtle.right(angle)\n\nturtle.forward(side_length)\nturtle.right(angle)\n\nturtle.forward(side_length)\nturtle.right(angle)\n\nturtle.done()"
      ],
      "execution_count": null,
      "outputs": []
    },
    {
      "cell_type": "markdown",
      "metadata": {
        "slideshow": {
          "slide_type": "subslide"
        }
      },
      "source": [
        "\nExtension Answer:\n\n"
      ]
    },
    {
      "cell_type": "code",
      "metadata": {},
      "source": [
        "import turtle\n\nside_length = 100\nangle = 120\n\nturtle.fillcolor('blue')\nturtle.begin_fill()\n\nturtle.forward(side_length)\nturtle.right(angle)\n\nturtle.forward(side_length)\nturtle.right(angle)\n\nturtle.forward(side_length)\nturtle.right(angle)\n\n\nturtle.end_fill()\n\nturtle.done()"
      ],
      "execution_count": null,
      "outputs": []
    },
    {
      "cell_type": "markdown",
      "metadata": {
        "slideshow": {
          "slide_type": "subslide"
        }
      },
      "source": [
        "**Task:** On the next three slides there are different shapes and drawings.\n\nChoose **some** of the drawings and try to recreate them with `turtle`.\n\nThe drawings are grouped by difficulty. Try the level one if you need more support or the level three if you're ready for a challenge."
      ]
    },
    {
      "cell_type": "markdown",
      "metadata": {
        "slideshow": {
          "slide_type": "subslide"
        }
      },
      "source": [
        "**Level One**\n\nPentagon: **five** sides, angle of **one-hundred and eight**\n\nOctagon: **eight** sides, angle of **one-hundred and thirty five**\n\nRectangle: **two** with length **two-hundred**, **two** sides with length **one-hundred**, angle of **ninety**"
      ]
    },
    {
      "cell_type": "markdown",
      "metadata": {
        "slideshow": {
          "slide_type": "subslide"
        }
      },
      "source": [
        "**Level Two**\n\nRight-angled triangle\n\nA parallelagram\n\nThree different sized Squares with different colours"
      ]
    },
    {
      "cell_type": "markdown",
      "metadata": {
        "slideshow": {
          "slide_type": "subslide"
        }
      },
      "source": [
        "**Level Three**\n\nA circle\n\nA star\n\nA cat"
      ]
    },
    {
      "cell_type": "markdown",
      "metadata": {
        "slideshow": {
          "slide_type": "subslide"
        }
      },
      "source": [
        "Solutions for each drawing can be found at [URL FOR SOLUTIONS]()"
      ]
    },
    {
      "cell_type": "markdown",
      "metadata": {
        "slideshow": {
          "slide_type": "slide"
        }
      },
      "source": [
        "### For Loops"
      ]
    },
    {
      "cell_type": "markdown",
      "metadata": {
        "slideshow": {
          "slide_type": "slide"
        }
      },
      "source": [
        "### Lists"
      ]
    },
    {
      "cell_type": "markdown",
      "metadata": {
        "slideshow": {
          "slide_type": "slide"
        }
      },
      "source": [
        "### Recap"
      ]
    },
    {
      "cell_type": "markdown",
      "metadata": {
        "slideshow": {
          "slide_type": "subslide"
        }
      },
      "source": [
        "This session:\n1. Importing libraries\n1. Problem solving with Turtle\n1. For Loops\n1. Lists"
      ]
    }
  ],
  "metadata": {
    "kernelspec": {
      "display_name": "Python 3",
      "language": "python",
      "name": "python3"
    },
    "language_info": {
      "codemirror_mode": {
        "name": "ipython",
        "version": 3
      },
      "file_extension": ".py",
      "mimetype": "text/x-python",
      "name": "python",
      "nbconvert_exporter": "python",
      "pygments_lexer": "ipython3",
      "version": "3.6.7"
    },
    "livereveal": {
      "scroll": true,
      "progress": true,
      "start_slideshow_at": "selected",
      "footer": "<img src=\"images/logo.png\" style=\"margin-left: 20px; margin-bottom: 20px;\"/>"
    },
    "rise": {
      "enable_chalkboard": true
    }
  },
  "nbformat": 4,
  "nbformat_minor": 2
}