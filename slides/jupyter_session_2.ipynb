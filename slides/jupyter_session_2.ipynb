{
  "cells": [
    {
      "cell_type": "markdown",
      "metadata": {
        "slideshow": {
          "slide_type": "slide"
        }
      },
      "source": [
        "**Starter:** Discuss your homework with the person sitting next to you"
      ]
    },
    {
      "cell_type": "markdown",
      "metadata": {
        "slideshow": {
          "slide_type": "slide"
        }
      },
      "source": [
        "![Code First: Girls](images/logo_large.png)\n\n#### Python Session 2"
      ]
    },
    {
      "cell_type": "markdown",
      "metadata": {
        "slideshow": {
          "slide_type": "subslide"
        }
      },
      "source": [
        "This session:\n1. Importing libraries\n1. Problem solving with Turtle\n1. For Loops\n1. Lists"
      ]
    },
    {
      "cell_type": "markdown",
      "metadata": {
        "slideshow": {
          "slide_type": "slide"
        }
      },
      "source": [
        "### Python  Libraries"
      ]
    },
    {
      "cell_type": "markdown",
      "metadata": {
        "slideshow": {
          "slide_type": "subslide"
        }
      },
      "source": [
        "**Library:** Structured code that someone else has written that you can reuse in your programs"
      ]
    },
    {
      "cell_type": "markdown",
      "metadata": {
        "slideshow": {
          "slide_type": "subslide"
        }
      },
      "source": [
        "\nLibraries are imported into your Python programs:\n\n"
      ]
    },
    {
      "cell_type": "code",
      "metadata": {},
      "source": [
        "import turtle"
      ],
      "execution_count": null,
      "outputs": []
    },
    {
      "cell_type": "markdown",
      "metadata": {},
      "source": [
        "\nTurtle is library for creating basic drawings.\n\n"
      ]
    },
    {
      "cell_type": "markdown",
      "metadata": {
        "slideshow": {
          "slide_type": "subslide"
        }
      },
      "source": [
        "\nAfter importing a library you can use the library's functions:\n\n"
      ]
    },
    {
      "cell_type": "code",
      "metadata": {},
      "source": [
        "import turtle\n\nturtle.forward(100)\nturtle.right(130)\nturtle.forward(100)\n\nturtle.done()"
      ],
      "execution_count": null,
      "outputs": []
    },
    {
      "cell_type": "markdown",
      "metadata": {
        "slideshow": {
          "slide_type": "subslide"
        }
      },
      "source": [
        "`turtle.forward(100)` moves the turtle forward by a number of pixels\n\n`turtle.right(130)` rotates the turtle by a number of degrees\n\n`turtle.done()` tells the turtle that you've finished giving it commands. Without this it will wait for new commands (if run from the shell) or disappear (if run from file)."
      ]
    },
    {
      "cell_type": "markdown",
      "metadata": {
        "slideshow": {
          "slide_type": "subslide"
        }
      },
      "source": [
        "The turtle's speed can be set with `turtle.speed(1)` for slow"
      ]
    },
    {
      "cell_type": "markdown",
      "metadata": {
        "slideshow": {
          "slide_type": "slide"
        }
      },
      "source": [
        "### Problem Solving (with Turtles)"
      ]
    },
    {
      "cell_type": "markdown",
      "metadata": {
        "slideshow": {
          "slide_type": "subslide"
        }
      },
      "source": [
        "\nLet's make square together (file name `square.py`)\n\nA square has **four** sides and an angle of **ninety** degrees:\n\n"
      ]
    },
    {
      "cell_type": "code",
      "metadata": {},
      "source": [
        "import turtle\n\nturtle.forward(100)\nturtle.right(90)\n\nturtle.forward(100)\nturtle.right(90)\n\nturtle.forward(100)\nturtle.right(90)\n\nturtle.forward(100)\nturtle.right(90)\n\nturtle.done()"
      ],
      "execution_count": null,
      "outputs": []
    },
    {
      "cell_type": "markdown",
      "metadata": {
        "slideshow": {
          "slide_type": "subslide"
        }
      },
      "source": [
        "\nVariables can be used to set the angles and size of your shapes:\n\n"
      ]
    },
    {
      "cell_type": "code",
      "metadata": {},
      "source": [
        "import turtle\n\nside_length = 200\nangle = 90\n\nturtle.forward(side_length)\nturtle.right(angle)\n\nturtle.forward(side_length)\nturtle.right(angle)\n\nturtle.forward(side_length)\nturtle.right(angle)\n\nturtle.forward(side_length)\nturtle.right(angle)\n\nturtle.done()"
      ],
      "execution_count": null,
      "outputs": []
    },
    {
      "cell_type": "markdown",
      "metadata": {},
      "source": [
        "\nChange `square.py` to use variables\n\n"
      ]
    },
    {
      "cell_type": "markdown",
      "metadata": {
        "slideshow": {
          "slide_type": "subslide"
        }
      },
      "source": [
        "\nYou can play around with filling the shape and colors:\n\n"
      ]
    },
    {
      "cell_type": "code",
      "metadata": {},
      "source": [
        "import turtle\n\nside_length = 200\nangle = 90\n\nturtle.fillcolor('red')\nturtle.begin_fill()\n\nturtle.forward(side_length)\nturtle.right(angle)\n\nturtle.forward(side_length)\nturtle.right(angle)\n\nturtle.forward(side_length)\nturtle.right(angle)\n\nturtle.forward(side_length)\nturtle.right(angle)\n\nturtle.end_fill()\n\nturtle.done()"
      ],
      "execution_count": null,
      "outputs": []
    },
    {
      "cell_type": "markdown",
      "metadata": {
        "slideshow": {
          "slide_type": "subslide"
        }
      },
      "source": [
        "**Task:** Using `turtle` draw a triangle\n\nA triangle has **three** sides and an angle of **120** degrees\n\n**Extension:** Make the triangle blue"
      ]
    },
    {
      "cell_type": "markdown",
      "metadata": {
        "slideshow": {
          "slide_type": "subslide"
        }
      },
      "source": [
        "\nAnswer:\n\n"
      ]
    },
    {
      "cell_type": "code",
      "metadata": {},
      "source": [
        "import turtle\n\nside_length = 100\nangle = 120\n\nturtle.forward(side_length)\nturtle.right(angle)\n\nturtle.forward(side_length)\nturtle.right(angle)\n\nturtle.forward(side_length)\nturtle.right(angle)\n\nturtle.done()"
      ],
      "execution_count": null,
      "outputs": []
    },
    {
      "cell_type": "markdown",
      "metadata": {
        "slideshow": {
          "slide_type": "subslide"
        }
      },
      "source": [
        "\nExtension Answer:\n\n"
      ]
    },
    {
      "cell_type": "code",
      "metadata": {},
      "source": [
        "import turtle\n\nside_length = 100\nangle = 120\n\nturtle.fillcolor('blue')\nturtle.begin_fill()\n\nturtle.forward(side_length)\nturtle.right(angle)\n\nturtle.forward(side_length)\nturtle.right(angle)\n\nturtle.forward(side_length)\nturtle.right(angle)\n\n\nturtle.end_fill()\n\nturtle.done()"
      ],
      "execution_count": null,
      "outputs": []
    },
    {
      "cell_type": "markdown",
      "metadata": {
        "slideshow": {
          "slide_type": "subslide"
        }
      },
      "source": [
        "**Task:** On the next three slides there are different shapes and drawings.\n\nChoose **some** of the drawings and try to recreate them with `turtle`.\n\nThe drawings are grouped by difficulty. Try the level one if you need more support or the level three if you're ready for a challenge."
      ]
    },
    {
      "cell_type": "markdown",
      "metadata": {
        "slideshow": {
          "slide_type": "subslide"
        }
      },
      "source": [
        "**Level One**\n\nPentagon: **five** sides, angle of **one-hundred and eight**\n\nOctagon: **eight** sides, angle of **one-hundred and thirty five**\n\nRectangle: **two** with length **two-hundred**, **two** sides with length **one-hundred**, angle of **ninety**"
      ]
    },
    {
      "cell_type": "markdown",
      "metadata": {
        "slideshow": {
          "slide_type": "subslide"
        }
      },
      "source": [
        "**Level Two**\n\nRight-angled triangle\n\nA parallelagram\n\nThree different sized Squares with different colours"
      ]
    },
    {
      "cell_type": "markdown",
      "metadata": {
        "slideshow": {
          "slide_type": "subslide"
        }
      },
      "source": [
        "**Level Three**\n\nA circle\n\nA star\n\nA cat"
      ]
    },
    {
      "cell_type": "markdown",
      "metadata": {
        "slideshow": {
          "slide_type": "subslide"
        }
      },
      "source": [
        "Solutions for each drawing can be found at [URL FOR SOLUTIONS]()"
      ]
    },
    {
      "cell_type": "markdown",
      "metadata": {
        "slideshow": {
          "slide_type": "slide"
        }
      },
      "source": [
        "### For Loops"
      ]
    },
    {
      "cell_type": "markdown",
      "metadata": {
        "slideshow": {
          "slide_type": "subslide"
        }
      },
      "source": [
        "**`for` loop:** allows you to repeat a block of code for every item in a list"
      ]
    },
    {
      "cell_type": "markdown",
      "metadata": {
        "slideshow": {
          "slide_type": "subslide"
        }
      },
      "source": [
        "A `for` loop has\n- A `for` operator\n- A variable name that stores each list value one at a time\n- An `in` operator\n- A list of values\n- A body (indented four spaces)"
      ]
    },
    {
      "cell_type": "markdown",
      "metadata": {
        "slideshow": {
          "slide_type": "subslide"
        }
      },
      "source": [
        "\nThe pre-written `range()` function returns a list of numbers\n\n"
      ]
    },
    {
      "cell_type": "code",
      "metadata": {},
      "source": [
        "for number in range(5):\n    print(number)"
      ],
      "execution_count": null,
      "outputs": []
    },
    {
      "cell_type": "markdown",
      "metadata": {
        "slideshow": {
          "slide_type": "subslide"
        }
      },
      "source": [
        "\n**Task:** Using a `for` loop, the `range()` function and the multiply operator, print this output:\n\n``` command-line\no\noo\nooo\noooo\nooooo\noooooo\nooooooo\noooooooo\nooooooooo\n```\n\n**Extension 1:** Use `input()` to set the number of lines output\n\n**Extension 2:** The `reversed()` function reverses a list. Can you use it to flip the pattern above?\n\n"
      ]
    },
    {
      "cell_type": "markdown",
      "metadata": {
        "slideshow": {
          "slide_type": "subslide"
        }
      },
      "source": [
        "\nSolution\n\n"
      ]
    },
    {
      "cell_type": "code",
      "metadata": {},
      "source": [
        "for number in range(10):\n    print('o' * number)"
      ],
      "execution_count": null,
      "outputs": []
    },
    {
      "cell_type": "markdown",
      "metadata": {
        "slideshow": {
          "slide_type": "subslide"
        }
      },
      "source": [
        "\nExtension 1\n\n"
      ]
    },
    {
      "cell_type": "code",
      "metadata": {},
      "source": [
        "repeat = int(input('How many repeats? '))\n\nfor number in range(repeats):\n    print('o' * number)"
      ],
      "execution_count": null,
      "outputs": []
    },
    {
      "cell_type": "markdown",
      "metadata": {
        "slideshow": {
          "slide_type": "subslide"
        }
      },
      "source": [
        "\nExtension 2\n\n"
      ]
    },
    {
      "cell_type": "code",
      "metadata": {},
      "source": [
        "for number in reversed(range(10)):\n    print('o' * number)"
      ],
      "execution_count": null,
      "outputs": []
    },
    {
      "cell_type": "markdown",
      "metadata": {
        "slideshow": {
          "slide_type": "subslide"
        }
      },
      "source": [
        "Level 1 Challenge: Pentagon\n\nLevel 2 Challenge: Circle\n\nLevel 3 Challenge: Sprial"
      ]
    },
    {
      "cell_type": "markdown",
      "metadata": {
        "slideshow": {
          "slide_type": "slide"
        }
      },
      "source": [
        "### Lists"
      ]
    },
    {
      "cell_type": "markdown",
      "metadata": {
        "slideshow": {
          "slide_type": "subslide"
        }
      },
      "source": [
        "**List:** an ordered collection of values"
      ]
    },
    {
      "cell_type": "markdown",
      "metadata": {
        "slideshow": {
          "slide_type": "subslide"
        }
      },
      "source": [
        "\nList are written inside square brackets and separated by commas\n\n\n"
      ]
    },
    {
      "cell_type": "code",
      "metadata": {},
      "source": [
        "lottery_numbers = [4, 8, 15, 16, 23, 42]"
      ],
      "execution_count": null,
      "outputs": []
    },
    {
      "cell_type": "code",
      "metadata": {},
      "source": [
        "student_names = ['Diedre', 'Hank', 'Helena', 'Salome']"
      ],
      "execution_count": null,
      "outputs": []
    },
    {
      "cell_type": "markdown",
      "metadata": {
        "slideshow": {
          "slide_type": "subslide"
        }
      },
      "source": [
        "\nLists can be made up of values of one or more data types\n\n"
      ]
    },
    {
      "cell_type": "code",
      "metadata": {},
      "source": [
        "orchid_row = ['Magnoliopsida', 12, 3, 8, 9, 'white']"
      ],
      "execution_count": null,
      "outputs": []
    },
    {
      "cell_type": "markdown",
      "metadata": {
        "slideshow": {
          "slide_type": "subslide"
        }
      },
      "source": [
        "List values can be accessed using their **index** in square brackets\n\n"
      ]
    },
    {
      "cell_type": "code",
      "metadata": {},
      "source": [
        "student_names = ['Diedre', 'Hank', 'Helena', 'Salome']\n\nprint(student_names[2])"
      ],
      "execution_count": null,
      "outputs": []
    },
    {
      "cell_type": "markdown",
      "metadata": {
        "slideshow": {
          "slide_type": "subslide"
        }
      },
      "source": [
        "\nList indexes start counting from 0\n\n"
      ]
    },
    {
      "cell_type": "code",
      "metadata": {},
      "source": [
        "student_names = [\n    'Diedre',    # index 0\n    'Hank',      # index 1\n    'Helena',    # index 2\n    'Salome'   # index 3\n]\n\nprint(student_names[0])"
      ],
      "execution_count": null,
      "outputs": []
    },
    {
      "cell_type": "markdown",
      "metadata": {
        "slideshow": {
          "slide_type": "slide"
        }
      },
      "source": [
        "### For Loops \u2665 Lists"
      ]
    },
    {
      "cell_type": "markdown",
      "metadata": {
        "slideshow": {
          "slide_type": "subslide"
        }
      },
      "source": [
        "Using lists and for loops together"
      ]
    },
    {
      "cell_type": "code",
      "metadata": {},
      "source": [
        "student_names = ['Diedre', 'Hank', 'Helena', 'Salome']\n\nfor student_name in student_names:\n    print(student_name)"
      ],
      "execution_count": null,
      "outputs": []
    },
    {
      "cell_type": "markdown",
      "metadata": {
        "slideshow": {
          "slide_type": "subslide"
        }
      },
      "source": [
        "\n**Task:** I have a load of cats and need you to feed them when I'm on holiday\n\nHere is a list of all my cats\n\n"
      ]
    },
    {
      "cell_type": "code",
      "metadata": {},
      "source": [
        "cats = ['Fluffy', 'Ginger', 'Whiskers', 'Rod']"
      ],
      "execution_count": null,
      "outputs": []
    },
    {
      "cell_type": "markdown",
      "metadata": {},
      "source": [
        "\nTo feed all my cats write a for loop that contains this code\n"
      ]
    },
    {
      "cell_type": "code",
      "metadata": {},
      "source": [
        "print('I am feeding {}'.format(cat))\nprint('{} says meow'.format(cat))"
      ],
      "execution_count": null,
      "outputs": []
    },
    {
      "cell_type": "markdown",
      "metadata": {
        "slideshow": {
          "slide_type": "subslide"
        }
      },
      "source": [
        "\nSolution:\n\n"
      ]
    },
    {
      "cell_type": "code",
      "metadata": {},
      "source": [
        "cats = ['Fluffy', 'Ginger', 'Whiskers', 'Rod']\n\nfor cat in cats:\n    print('I am feeding {}'.format(cat))\n    print('{} says meow'.format(cat))"
      ],
      "execution_count": null,
      "outputs": []
    },
    {
      "cell_type": "markdown",
      "metadata": {
        "slideshow": {
          "slide_type": "slide"
        }
      },
      "source": [
        "### Recap"
      ]
    },
    {
      "cell_type": "markdown",
      "metadata": {
        "slideshow": {
          "slide_type": "subslide"
        }
      },
      "source": [
        "This session:\n1. Importing libraries\n1. Problem solving with Turtle\n1. For Loops\n1. Lists"
      ]
    }
  ],
  "metadata": {
    "kernelspec": {
      "display_name": "Python 3",
      "language": "python",
      "name": "python3"
    },
    "language_info": {
      "codemirror_mode": {
        "name": "ipython",
        "version": 3
      },
      "file_extension": ".py",
      "mimetype": "text/x-python",
      "name": "python",
      "nbconvert_exporter": "python",
      "pygments_lexer": "ipython3",
      "version": "3.6.7"
    },
    "livereveal": {
      "scroll": true,
      "progress": true,
      "start_slideshow_at": "selected",
      "footer": "<img src=\"images/logo.png\" style=\"margin-left: 20px; margin-bottom: 20px;\"/>"
    },
    "rise": {
      "enable_chalkboard": true
    }
  },
  "nbformat": 4,
  "nbformat_minor": 2
}